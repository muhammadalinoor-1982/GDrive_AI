{
  "nbformat": 4,
  "nbformat_minor": 0,
  "metadata": {
    "colab": {
      "provenance": []
    },
    "kernelspec": {
      "name": "python3",
      "display_name": "Python 3"
    },
    "language_info": {
      "name": "python"
    }
  },
  "cells": [
    {
      "cell_type": "markdown",
      "source": [
        "#**PYTHON LIST**"
      ],
      "metadata": {
        "id": "GQPmSoJhI7a5"
      }
    },
    {
      "cell_type": "markdown",
      "source": [
        "#**A. Access List Items:**"
      ],
      "metadata": {
        "id": "lJui67o3JKMp"
      }
    },
    {
      "cell_type": "code",
      "execution_count": null,
      "metadata": {
        "colab": {
          "base_uri": "https://localhost:8080/"
        },
        "id": "uN2D6mu4I2VE",
        "outputId": "e61f54bd-c380-4a52-b879-bf3eeec1db91"
      },
      "outputs": [
        {
          "output_type": "stream",
          "name": "stdout",
          "text": [
            "['cherry', 'orange', 'kiwi']\n"
          ]
        }
      ],
      "source": [
        "# Q:Return the third, fourth, and fifth item:\n",
        "thislist = [\"apple\", \"banana\", \"cherry\", \"orange\", \"kiwi\", \"melon\", \"mango\"]\n",
        "print(thislist[2:5])"
      ]
    },
    {
      "cell_type": "code",
      "source": [
        "# Q:This example returns the items from the beginning to, but NOT including, \"kiwi\":\n",
        "thislist = [\"apple\", \"banana\", \"cherry\", \"orange\", \"kiwi\", \"melon\", \"mango\"]\n",
        "print(thislist[:4])\n"
      ],
      "metadata": {
        "colab": {
          "base_uri": "https://localhost:8080/"
        },
        "id": "e8ff738kJRd5",
        "outputId": "394713cc-527c-462c-87a2-fdf90b27c7db"
      },
      "execution_count": null,
      "outputs": [
        {
          "output_type": "stream",
          "name": "stdout",
          "text": [
            "['apple', 'banana', 'cherry', 'orange']\n"
          ]
        }
      ]
    },
    {
      "cell_type": "code",
      "source": [
        "# Q:This example returns the items from \"cherry\" to the end:\n",
        "thislist = [\"apple\", \"banana\", \"cherry\", \"orange\", \"kiwi\", \"melon\", \"mango\"]\n",
        "print(thislist[2:])\n"
      ],
      "metadata": {
        "colab": {
          "base_uri": "https://localhost:8080/"
        },
        "id": "kxlEmDFNLY7k",
        "outputId": "9ef7323d-205a-400a-ede5-7e490674271c"
      },
      "execution_count": null,
      "outputs": [
        {
          "output_type": "stream",
          "name": "stdout",
          "text": [
            "['cherry', 'orange', 'kiwi', 'melon', 'mango']\n"
          ]
        }
      ]
    },
    {
      "cell_type": "markdown",
      "source": [
        "#**B. Change List Items:**"
      ],
      "metadata": {
        "id": "i5Ozpg7-L2k7"
      }
    },
    {
      "cell_type": "code",
      "source": [
        "# Q:Change the values \"banana\" and \"cherry\" with the values \"blackcurrant\" and \"watermelon\":\n",
        "thislist = [\"apple\", \"banana\", \"cherry\", \"orange\", \"kiwi\", \"mango\"]\n",
        "thislist[1:3] = [\"blackcurrant\", \"watermelon\"]\n",
        "print(thislist)"
      ],
      "metadata": {
        "colab": {
          "base_uri": "https://localhost:8080/"
        },
        "id": "SlNW0zPPLtLn",
        "outputId": "4005ec30-1dfb-4568-9155-b9531a052a1d"
      },
      "execution_count": null,
      "outputs": [
        {
          "output_type": "stream",
          "name": "stdout",
          "text": [
            "['apple', 'blackcurrant', 'watermelon', 'orange', 'kiwi', 'mango']\n"
          ]
        }
      ]
    },
    {
      "cell_type": "code",
      "source": [
        "# Q:Change the second value by replacing it with two new values:\n",
        "thislist = [\"apple\", \"banana\", \"cherry\"]\n",
        "thislist[1:2] = [\"blackcurrant\", \"watermelon\"]\n",
        "print(thislist)"
      ],
      "metadata": {
        "colab": {
          "base_uri": "https://localhost:8080/"
        },
        "id": "ajAIvHx5MTiQ",
        "outputId": "869ebc0c-d81d-4510-c6cc-90229bf5df17"
      },
      "execution_count": null,
      "outputs": [
        {
          "output_type": "stream",
          "name": "stdout",
          "text": [
            "['apple', 'blackcurrant', 'watermelon', 'cherry']\n"
          ]
        }
      ]
    },
    {
      "cell_type": "code",
      "source": [
        "# Q:Change the second and third value by replacing it with one value:\n",
        "thislist = [\"apple\", \"banana\", \"cherry\"]\n",
        "thislist[1:3] = [\"watermelon\"]\n",
        "print(thislist)"
      ],
      "metadata": {
        "colab": {
          "base_uri": "https://localhost:8080/"
        },
        "id": "GvvCzgJVM7bQ",
        "outputId": "d482718c-2bd2-4b27-c11e-89715dce5000"
      },
      "execution_count": null,
      "outputs": [
        {
          "output_type": "stream",
          "name": "stdout",
          "text": [
            "['apple', 'watermelon']\n"
          ]
        }
      ]
    },
    {
      "cell_type": "markdown",
      "source": [
        "#**C. Add List Items:**"
      ],
      "metadata": {
        "id": "JzkMCLGtN-bF"
      }
    },
    {
      "cell_type": "code",
      "source": [
        "# 1.append(\"orange\"), 2.insert(1, \"watermelon\"), 3.extend(tropical)\n",
        "thislist = [\"apple\", \"banana\", \"cherry\"]\n",
        "tropical = [\"mango\", \"pineapple\", \"papaya\"]\n",
        "thislist.append('orange')\n",
        "thislist.insert(1, 'watermelon')\n",
        "thislist.extend(tropical)\n",
        "print(thislist,'\\n', tropical)"
      ],
      "metadata": {
        "colab": {
          "base_uri": "https://localhost:8080/"
        },
        "id": "b5NjVh4cNzNf",
        "outputId": "ea15439e-91e2-4509-a898-d67f0813c9af"
      },
      "execution_count": null,
      "outputs": [
        {
          "output_type": "stream",
          "name": "stdout",
          "text": [
            "['apple', 'watermelon', 'banana', 'cherry', 'orange', 'mango', 'pineapple', 'papaya'] \n",
            " ['mango', 'pineapple', 'papaya']\n"
          ]
        }
      ]
    },
    {
      "cell_type": "markdown",
      "source": [
        "#**D. Remove List Items:**"
      ],
      "metadata": {
        "id": "ISAiVHtHP-19"
      }
    },
    {
      "cell_type": "code",
      "source": [
        "# 1.remove(\"banana\"), 2.pop(1), 3.del thislist[0], 4.clear()\n",
        "thislist = [\"apple\", \"banana\", \"cherry\"]\n",
        "tropical = [\"mango\", \"pineapple\", \"papaya\"]\n",
        "newlist = ['watermelon','orange','blackcurrant']\n",
        "thislist.remove('apple')\n",
        "tropical.pop(1)\n",
        "del tropical[0]\n",
        "newlist.clear()\n",
        "print(thislist, '\\n', tropical, '\\n', newlist)"
      ],
      "metadata": {
        "colab": {
          "base_uri": "https://localhost:8080/"
        },
        "id": "sS8FuXkuTXWl",
        "outputId": "234467b4-4d63-43af-c8b9-5174466f2d49"
      },
      "execution_count": null,
      "outputs": [
        {
          "output_type": "stream",
          "name": "stdout",
          "text": [
            "['banana', 'cherry'] \n",
            " ['papaya'] \n",
            " []\n"
          ]
        }
      ]
    },
    {
      "cell_type": "markdown",
      "source": [
        "#**E. Sort Lists:**"
      ],
      "metadata": {
        "id": "yqPZ_w-RUbe0"
      }
    },
    {
      "cell_type": "code",
      "source": [
        "# 1.sort(), 2.sort(reverse = True), 3.sort(key = str.lower)\n",
        "thislist = [\"orange\", \"mango\", \"kiwi\", \"pineapple\", \"banana\"]\n",
        "thislist.sort()\n",
        "rev = ['apple', 'watermelon', 'banana', 'cherry', 'orange', 'mango', 'pineapple', 'papaya']\n",
        "rev.sort(reverse = True)\n",
        "list1 = [\"banana\", \"Orange\", \"Kiwi\", \"cherry\"]\n",
        "list1.sort(key = str.lower)\n",
        "print(thislist, '\\n', rev, '\\n', list1)\n",
        "\n",
        "def myfunc(n):\n",
        "  return abs(n - 50)\n",
        "\n",
        "list2 = [100, 50, 65, 82, 23]\n",
        "\n",
        "list2.sort(key = myfunc)\n",
        "print(list2)"
      ],
      "metadata": {
        "colab": {
          "base_uri": "https://localhost:8080/"
        },
        "id": "YFSscVHBTX3G",
        "outputId": "817fb4dc-07d5-4e6c-8654-80a40db1f959"
      },
      "execution_count": null,
      "outputs": [
        {
          "output_type": "stream",
          "name": "stdout",
          "text": [
            "['banana', 'kiwi', 'mango', 'orange', 'pineapple'] \n",
            " ['watermelon', 'pineapple', 'papaya', 'orange', 'mango', 'cherry', 'banana', 'apple'] \n",
            " ['banana', 'cherry', 'Kiwi', 'Orange']\n",
            "[50, 65, 23, 82, 100]\n"
          ]
        }
      ]
    },
    {
      "cell_type": "markdown",
      "source": [
        "#**How to find unique elements in the list**"
      ],
      "metadata": {
        "id": "subPQ0DwW70W"
      }
    },
    {
      "cell_type": "markdown",
      "source": [
        "#**Use Dictionary and fromkeys**"
      ],
      "metadata": {
        "id": "ZPU3JWdLaV9t"
      }
    },
    {
      "cell_type": "code",
      "source": [
        "list1 = [1, 2, 1, 1, 3, 4, 3, 3, 5]\n",
        "unique_list = list(dict.fromkeys(list1))\n",
        "print(unique_list)"
      ],
      "metadata": {
        "colab": {
          "base_uri": "https://localhost:8080/"
        },
        "id": "Hl9vTA_pakPG",
        "outputId": "cb4c77c2-a806-489e-e290-198f2cf62aa9"
      },
      "execution_count": null,
      "outputs": [
        {
          "output_type": "stream",
          "name": "stdout",
          "text": [
            "[1, 2, 3, 4, 5]\n"
          ]
        }
      ]
    },
    {
      "cell_type": "markdown",
      "source": [
        "#**Another Approch: Useing for loop**"
      ],
      "metadata": {
        "id": "M20HhpAJavta"
      }
    },
    {
      "cell_type": "code",
      "source": [
        "def unique(list1):\n",
        "    unique_list = []\n",
        "    for x in list1:\n",
        "        if x not in unique_list:\n",
        "            unique_list.append(x)\n",
        "    for x in unique_list:\n",
        "        print(x)\n",
        "\n",
        "list1 = [1, 2, 1, 1, 3, 4, 3, 3, 5]\n",
        "unique(list1)\n"
      ],
      "metadata": {
        "colab": {
          "base_uri": "https://localhost:8080/"
        },
        "id": "VUt4motpUwMK",
        "outputId": "3497d17f-a7aa-4978-a266-c881d882c767"
      },
      "execution_count": null,
      "outputs": [
        {
          "output_type": "stream",
          "name": "stdout",
          "text": [
            "1\n",
            "2\n",
            "3\n",
            "4\n",
            "5\n"
          ]
        }
      ]
    },
    {
      "cell_type": "markdown",
      "source": [
        "#**Another Approch: Use collections and Counter**"
      ],
      "metadata": {
        "id": "tXMvukRSXzpF"
      }
    },
    {
      "cell_type": "code",
      "source": [
        "from collections import Counter\n",
        "def unique(list1):\n",
        "    print(*Counter(list1))\n",
        "\n",
        "list1 = [1, 2, 1, 1, 3, 4, 3, 3, 5]\n",
        "unique(list1)"
      ],
      "metadata": {
        "colab": {
          "base_uri": "https://localhost:8080/"
        },
        "id": "qc5BqklRXBwY",
        "outputId": "20c99399-c516-437a-db75-869175baea2c"
      },
      "execution_count": null,
      "outputs": [
        {
          "output_type": "stream",
          "name": "stdout",
          "text": [
            "1 2 3 4 5\n"
          ]
        }
      ]
    }
  ]
}