{
  "nbformat": 4,
  "nbformat_minor": 0,
  "metadata": {
    "colab": {
      "provenance": []
    },
    "kernelspec": {
      "name": "python3",
      "display_name": "Python 3"
    },
    "language_info": {
      "name": "python"
    }
  },
  "cells": [
    {
      "cell_type": "code",
      "execution_count": null,
      "metadata": {
        "colab": {
          "base_uri": "https://localhost:8080/"
        },
        "id": "QjOnCMGKm6Ja",
        "outputId": "e6a6dcde-c5ed-4256-e159-3b6f03d64c78"
      },
      "outputs": [
        {
          "output_type": "stream",
          "name": "stdout",
          "text": [
            "10 20 30\n",
            "Friuts:  orange + mango + banana\n"
          ]
        }
      ],
      "source": [
        "class summ:\n",
        "    def summition(self, orange, mango, banana):\n",
        "        self.orange = \"orange\"\n",
        "        self.mango  = \"mango\"\n",
        "        self.banana = \"banana\"\n",
        "        #c = self.orange+self.mango-self.banana\n",
        "        #return c\n",
        "        print(orange, mango, banana)\n",
        "\n",
        "    def display(self):\n",
        "        print('Friuts: ',self.orange, '+',self.mango, '+',self.banana)\n",
        "\n",
        "obj = summ()\n",
        "obj.summition(10,20,30)\n",
        "obj.display()"
      ]
    },
    {
      "cell_type": "code",
      "source": [
        "class calculate:\n",
        "    def even(self, n):\n",
        "        self.n = n\n",
        "        if n%2 == 0:\n",
        "            result = self.square()\n",
        "        else:\n",
        "            result = self.double()\n",
        "        return result\n",
        "\n",
        "    def square(self):\n",
        "        return self.n**2\n",
        "    def double(self):\n",
        "        return self.n*2\n",
        "\n",
        "obj = calculate()\n",
        "obj.even(7)"
      ],
      "metadata": {
        "colab": {
          "base_uri": "https://localhost:8080/"
        },
        "id": "wBUhopC1ofDG",
        "outputId": "1347e7d6-ac3a-4f85-b0a0-720e6352c40a"
      },
      "execution_count": null,
      "outputs": [
        {
          "output_type": "execute_result",
          "data": {
            "text/plain": [
              "14"
            ]
          },
          "metadata": {},
          "execution_count": 10
        }
      ]
    },
    {
      "cell_type": "markdown",
      "source": [
        "#**Inharitence**"
      ],
      "metadata": {
        "id": "ysFu9ZE5srrE"
      }
    },
    {
      "cell_type": "code",
      "source": [
        "class parent:\n",
        "    def __init__(self):\n",
        "        self.age = 18\n",
        "class child1(parent):\n",
        "    def __init__(self):\n",
        "        self.name = 'Biden'\n",
        "        parent.__init__(self)\n",
        "    def display(self):\n",
        "        print(self.age, self.name)\n",
        "obj_child1 = child1()\n",
        "obj_child1.display()"
      ],
      "metadata": {
        "colab": {
          "base_uri": "https://localhost:8080/"
        },
        "id": "hjMzbPwtsTHz",
        "outputId": "23c393d3-b3c8-479c-adda-00cb5cda1c8d"
      },
      "execution_count": null,
      "outputs": [
        {
          "output_type": "stream",
          "name": "stdout",
          "text": [
            "18 Biden\n"
          ]
        }
      ]
    },
    {
      "cell_type": "markdown",
      "source": [
        "#**Multilevel Inharitance**"
      ],
      "metadata": {
        "id": "YR4cb5BHvy2v"
      }
    },
    {
      "cell_type": "code",
      "source": [
        "class parent:\n",
        "    def __init__(self):\n",
        "        self.age = 5\n",
        "\n",
        "class child(parent):           #Inharit Parent Class\n",
        "    def __init__(self):\n",
        "        self.name = 'Biden'\n",
        "        parent.__init__(self)  #Inharit Parent Method\n",
        "\n",
        "class grandchild(child):       #Inharit Child (Child Class Include Parent Class) Class\n",
        "    def __init__(self):\n",
        "        self.gender = 5\n",
        "        child.__init__(self)   #Inharit Child Mthod\n",
        "\n",
        "    def display(self):\n",
        "        print('the display of {} is: {}'.format(self.name, self.age * self.gender))\n",
        "\n",
        "obj_grandchild = grandchild()\n",
        "obj_grandchild.display()"
      ],
      "metadata": {
        "colab": {
          "base_uri": "https://localhost:8080/"
        },
        "id": "qsHKtU5wuGq7",
        "outputId": "3ce59179-d283-4597-f90d-4f3ddc6d0f7b"
      },
      "execution_count": null,
      "outputs": [
        {
          "output_type": "stream",
          "name": "stdout",
          "text": [
            "the display of Biden is: 25\n"
          ]
        }
      ]
    },
    {
      "cell_type": "markdown",
      "source": [
        "#**Abstruction**"
      ],
      "metadata": {
        "id": "FYlkeEMsxaas"
      }
    },
    {
      "cell_type": "code",
      "source": [
        "from abc import ABC, abstractmethod\n",
        "\n",
        "class parent(ABC):\n",
        "    @abstractmethod\n",
        "\n",
        "    def show(self):\n",
        "        print('parent')\n",
        "\n",
        "class child(parent):\n",
        "    def show(self):\n",
        "        super().show()\n",
        "        print('child')\n",
        "\n",
        "obj = child()\n",
        "obj.show()"
      ],
      "metadata": {
        "colab": {
          "base_uri": "https://localhost:8080/"
        },
        "id": "QpbXN_bZxJ75",
        "outputId": "db72eec8-16f5-4352-99ea-ee25e5760feb"
      },
      "execution_count": null,
      "outputs": [
        {
          "output_type": "stream",
          "name": "stdout",
          "text": [
            "parent\n",
            "child\n"
          ]
        }
      ]
    },
    {
      "cell_type": "code",
      "source": [
        "class parent:\n",
        "    def hellow(self, arg1):\n",
        "        print('this function only has 1 argument')\n",
        "    def hellow1(self, arg1, arg2):\n",
        "        print('this function only has 2 argument')\n",
        "\n",
        "\n",
        "obj=parent()\n",
        "obj.hellow(\"sadiya\")\n",
        "obj.hellow1(\"sadiya\", \"sadiya muntaha\")"
      ],
      "metadata": {
        "colab": {
          "base_uri": "https://localhost:8080/"
        },
        "id": "QM84A9DVySCk",
        "outputId": "143d1bc0-56ad-4251-a5f0-bb803489e1ac"
      },
      "execution_count": null,
      "outputs": [
        {
          "output_type": "stream",
          "name": "stdout",
          "text": [
            "this function only has 1 argument\n",
            "this function only has 2 argument\n"
          ]
        }
      ]
    },
    {
      "cell_type": "code",
      "source": [
        "class Person:\n",
        "    \"\"\"\n",
        "    A class to represent a person.\n",
        "\n",
        "    ...\n",
        "\n",
        "    Attributes\n",
        "    ----------\n",
        "    name : str\n",
        "        first name of the person\n",
        "    surname : str\n",
        "        family name of the person\n",
        "    age : int\n",
        "        age of the person\n",
        "\n",
        "    Methods\n",
        "    -------\n",
        "    info(additional=\"\"):\n",
        "        Prints the person's name and age.\n",
        "    \"\"\"\n",
        "\n",
        "    def __init__(self, name, surname, age):\n",
        "        \"\"\"\n",
        "        Constructs all the necessary attributes for the person object.\n",
        "\n",
        "        Parameters\n",
        "        ----------\n",
        "            name : str\n",
        "                first name of the person\n",
        "            surname : str\n",
        "                family name of the person\n",
        "            age : int\n",
        "                age of the person\n",
        "        \"\"\"\n",
        "\n",
        "        self.name = name\n",
        "        self.surname = surname\n",
        "        self.age = age\n",
        "\n",
        "    def info(self, additional=\"\"):\n",
        "        \"\"\"\n",
        "        Prints the person's name and age.\n",
        "\n",
        "        If the argument 'additional' is passed, then it is appended after the main info.\n",
        "\n",
        "        Parameters\n",
        "        ----------\n",
        "        additional : str, optional\n",
        "            More info to be displayed (default is None)\n",
        "\n",
        "        Returns\n",
        "        -------\n",
        "        None\n",
        "        \"\"\"\n",
        "\n",
        "        print(f'My name is {self.name} {self.surname}. I am {self.age} years old.' + additional)\n",
        "print(Person.__doc__)\n"
      ],
      "metadata": {
        "id": "DE2BoDPky3GF",
        "colab": {
          "base_uri": "https://localhost:8080/"
        },
        "outputId": "1e38ee26-c1ce-4115-c737-514263d5e23f"
      },
      "execution_count": null,
      "outputs": [
        {
          "output_type": "stream",
          "name": "stdout",
          "text": [
            "\n",
            "    A class to represent a person.\n",
            "\n",
            "    ...\n",
            "\n",
            "    Attributes\n",
            "    ----------\n",
            "    name : str\n",
            "        first name of the person\n",
            "    surname : str\n",
            "        family name of the person\n",
            "    age : int\n",
            "        age of the person\n",
            "\n",
            "    Methods\n",
            "    -------\n",
            "    info(additional=\"\"):\n",
            "        Prints the person's name and age.\n",
            "    \n"
          ]
        }
      ]
    },
    {
      "cell_type": "code",
      "source": [],
      "metadata": {
        "id": "A_OtDgRtBgtk"
      },
      "execution_count": null,
      "outputs": []
    }
  ]
}