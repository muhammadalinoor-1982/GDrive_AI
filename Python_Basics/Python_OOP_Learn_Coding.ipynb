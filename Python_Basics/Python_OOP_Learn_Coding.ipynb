{
  "nbformat": 4,
  "nbformat_minor": 0,
  "metadata": {
    "colab": {
      "provenance": []
    },
    "kernelspec": {
      "name": "python3",
      "display_name": "Python 3"
    },
    "language_info": {
      "name": "python"
    }
  },
  "cells": [
    {
      "cell_type": "markdown",
      "source": [
        "#**Inheritance**"
      ],
      "metadata": {
        "id": "V38j0KVsGK6-"
      }
    },
    {
      "cell_type": "markdown",
      "source": [
        "Link: https://www.youtube.com/watch?v=ioO0VyceAqU&list=PL5aNSbIIYFHXDUG7RJSvCaNnq9J28jRMA&index=19"
      ],
      "metadata": {
        "id": "T5_0V-HYGE-l"
      }
    },
    {
      "cell_type": "code",
      "execution_count": null,
      "metadata": {
        "colab": {
          "base_uri": "https://localhost:8080/"
        },
        "id": "JAAg7iS5FyHM",
        "outputId": "a57c4632-5b44-4d99-9d9e-a28d29e9df63"
      },
      "outputs": [
        {
          "output_type": "stream",
          "name": "stdout",
          "text": [
            "parent has some money\n",
            "parent has some lands\n"
          ]
        }
      ],
      "source": [
        "class parent:\n",
        "  def lands(self):\n",
        "    print('parent has some lands')\n",
        "class child(parent):\n",
        "  def money(self):\n",
        "    print('parent has some money')\n",
        "\n",
        "obj = child()\n",
        "obj.money()\n",
        "obj.lands()"
      ]
    },
    {
      "cell_type": "markdown",
      "source": [
        "#**Multilevel Inharitance**"
      ],
      "metadata": {
        "id": "hcYhGrwEK2LQ"
      }
    },
    {
      "cell_type": "code",
      "source": [
        "class parent:\n",
        "    def __init__(self):\n",
        "        self.age = 5\n",
        "\n",
        "class child(parent):           #Inharit Parent Class\n",
        "    def __init__(self):\n",
        "        self.name = 'Biden'\n",
        "        parent.__init__(self)  #Inharit Parent Method\n",
        "\n",
        "class grandchild(child):       #Inharit Child (Child Class Include Parent Class) Class\n",
        "    def __init__(self):\n",
        "        self.gender = 5\n",
        "        child.__init__(self)   #Inharit Child Mthod\n",
        "\n",
        "    def display(self):\n",
        "        print('the display of {} is: {}'.format(self.name, self.age * self.gender))\n",
        "\n",
        "obj_grandchild = grandchild()\n",
        "obj_grandchild.display()"
      ],
      "metadata": {
        "id": "21z_BQehJ3ss",
        "colab": {
          "base_uri": "https://localhost:8080/"
        },
        "outputId": "725c8b0f-650f-4f7b-e725-8cf3869bb8cf"
      },
      "execution_count": null,
      "outputs": [
        {
          "output_type": "stream",
          "name": "stdout",
          "text": [
            "the display of Biden is: 25\n"
          ]
        }
      ]
    },
    {
      "cell_type": "markdown",
      "source": [
        "#**Abstract**"
      ],
      "metadata": {
        "id": "SK5cSp2yK-Se"
      }
    },
    {
      "cell_type": "markdown",
      "source": [
        "Link: https://www.youtube.com/watch?v=CBHRtBJGhKE&list=PL5aNSbIIYFHXDUG7RJSvCaNnq9J28jRMA&index=14"
      ],
      "metadata": {
        "id": "FD-4nzXvOZKF"
      }
    },
    {
      "cell_type": "code",
      "source": [
        "from abc import ABC, abstractmethod\n",
        "\n",
        "class car(ABC):\n",
        "  def wheels(self):\n",
        "    print('Every car has four wheels')\n",
        "  @abstractmethod\n",
        "\n",
        "  def speed(self):\n",
        "    pass\n",
        "\n",
        "class porsche(car):\n",
        "  def speed(self):\n",
        "    print('Speed is 200km/h')\n",
        "\n",
        "class lamborghini(car):\n",
        "  def speed(self):\n",
        "    print('Speed is 400km/h')\n",
        "\n",
        "obj = lamborghini()\n",
        "obj.wheels()\n",
        "obj.speed()"
      ],
      "metadata": {
        "colab": {
          "base_uri": "https://localhost:8080/"
        },
        "id": "h-WoYO1EK6fx",
        "outputId": "d8c6d622-cb09-4908-a0c0-e10b223fe284"
      },
      "execution_count": null,
      "outputs": [
        {
          "output_type": "stream",
          "name": "stdout",
          "text": [
            "Every car has four wheels\n",
            "Speed is 400km/h\n"
          ]
        }
      ]
    },
    {
      "cell_type": "markdown",
      "source": [
        "#**Encapsulation**"
      ],
      "metadata": {
        "id": "5fBVxra6OnSQ"
      }
    },
    {
      "cell_type": "markdown",
      "source": [
        "Link: https://www.youtube.com/watch?v=3zGVokYEQgo&list=PL5aNSbIIYFHXDUG7RJSvCaNnq9J28jRMA&index=18"
      ],
      "metadata": {
        "id": "-z-O8c9IOqii"
      }
    },
    {
      "cell_type": "code",
      "source": [
        "class A:\n",
        "  _x = 10  # Protected\n",
        "  __y = 20 # Private\n",
        "  def show(self):\n",
        "    print('x: ', self._x)\n",
        "    print('y: ', self.__y)\n",
        "\n",
        "obj = A()\n",
        "obj.show()\n",
        "print('Outside of class', obj._x)\n",
        "#print('Outside of class', obj.__y) #AttributeError: 'A' object has no attribute '__y'"
      ],
      "metadata": {
        "colab": {
          "base_uri": "https://localhost:8080/"
        },
        "id": "MuEr4iWuOVFn",
        "outputId": "f63f74ce-e05f-4761-ad28-94bb43c04124"
      },
      "execution_count": null,
      "outputs": [
        {
          "output_type": "stream",
          "name": "stdout",
          "text": [
            "x:  10\n",
            "y:  20\n",
            "Outside of class 10\n"
          ]
        }
      ]
    },
    {
      "cell_type": "markdown",
      "source": [
        "#**Polymorphism**"
      ],
      "metadata": {
        "id": "4iCrt4ZyRLpz"
      }
    },
    {
      "cell_type": "markdown",
      "source": [
        "Link: https://www.youtube.com/watch?v=a924Pin2swA&list=PL5aNSbIIYFHXDUG7RJSvCaNnq9J28jRMA&index=15"
      ],
      "metadata": {
        "id": "RoCUZdhkRQ5W"
      }
    },
    {
      "cell_type": "code",
      "source": [
        "# Same function has different Action\n",
        "# 'print()' is function\n",
        "print(len('hellow')) # Output will be 6 (Character)\n",
        "print(len(['hellow', 'world'])) # output will be 2 (list of index)"
      ],
      "metadata": {
        "colab": {
          "base_uri": "https://localhost:8080/"
        },
        "id": "d0V_XthiQeLW",
        "outputId": "cfe2d782-10eb-4725-f2eb-3be2139e82f6"
      },
      "execution_count": null,
      "outputs": [
        {
          "output_type": "stream",
          "name": "stdout",
          "text": [
            "6\n",
            "2\n"
          ]
        }
      ]
    },
    {
      "cell_type": "markdown",
      "source": [
        "#**Method Overloading**"
      ],
      "metadata": {
        "id": "a4jnjxlESvyI"
      }
    },
    {
      "cell_type": "markdown",
      "source": [
        "Link: https://www.youtube.com/watch?v=15pZbi_MtcY&list=PL5aNSbIIYFHXDUG7RJSvCaNnq9J28jRMA&index=16"
      ],
      "metadata": {
        "id": "8_-0jC5NSz-X"
      }
    },
    {
      "cell_type": "code",
      "source": [
        "class name:\n",
        "  def show(self):\n",
        "    print('welcome')\n",
        "\n",
        "  def show(self, fname=''):\n",
        "    print('welcome', fname)\n",
        "\n",
        "  def show(self, fname='', lname=''):\n",
        "    print('welcome', fname, lname)\n",
        "\n",
        "obj = name()\n",
        "obj.show()\n",
        "obj.show('martin')\n",
        "obj.show('david', 'martin')"
      ],
      "metadata": {
        "colab": {
          "base_uri": "https://localhost:8080/"
        },
        "id": "hz9J5G7_SSCB",
        "outputId": "1817206f-bbd3-40fd-c5d9-fff936fe6599"
      },
      "execution_count": null,
      "outputs": [
        {
          "output_type": "stream",
          "name": "stdout",
          "text": [
            "welcome  \n",
            "welcome martin \n",
            "welcome david martin\n"
          ]
        }
      ]
    },
    {
      "cell_type": "markdown",
      "source": [
        "#**Method Overriding**"
      ],
      "metadata": {
        "id": "FkymfkgxU_tT"
      }
    },
    {
      "cell_type": "markdown",
      "source": [
        "Link: https://www.youtube.com/watch?v=viQeKOHTsfk&list=PL5aNSbIIYFHXDUG7RJSvCaNnq9J28jRMA&index=17"
      ],
      "metadata": {
        "id": "0G7Epy8iVFoX"
      }
    },
    {
      "cell_type": "code",
      "source": [
        "class parent:\n",
        "  def show(self):\n",
        "    print('this is parent class method')\n",
        "\n",
        "class child(parent):\n",
        "  def show(self):\n",
        "    super().show() # This is for print parent class parameter\n",
        "    print('this is child class method')\n",
        "\n",
        "obj = child()\n",
        "obj.show()"
      ],
      "metadata": {
        "colab": {
          "base_uri": "https://localhost:8080/"
        },
        "id": "K7g9d0rhUgLH",
        "outputId": "215be7d4-8dee-437e-86ef-67fe44976422"
      },
      "execution_count": null,
      "outputs": [
        {
          "output_type": "stream",
          "name": "stdout",
          "text": [
            "this is parent class method\n",
            "this is child class method\n"
          ]
        }
      ]
    },
    {
      "cell_type": "code",
      "source": [],
      "metadata": {
        "id": "smiFmVFrXDxt"
      },
      "execution_count": null,
      "outputs": []
    }
  ]
}