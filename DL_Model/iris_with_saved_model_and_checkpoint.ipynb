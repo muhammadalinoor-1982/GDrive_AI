{
  "nbformat": 4,
  "nbformat_minor": 0,
  "metadata": {
    "colab": {
      "provenance": []
    },
    "kernelspec": {
      "name": "python3",
      "display_name": "Python 3"
    },
    "language_info": {
      "name": "python"
    }
  },
  "cells": [
    {
      "cell_type": "code",
      "execution_count": null,
      "metadata": {
        "id": "ScBQi2OdwNiV"
      },
      "outputs": [],
      "source": [
        "import numpy as np\n",
        "import pandas as pd\n",
        "import matplotlib.pyplot as plt\n",
        "import tensorflow\n",
        "from tensorflow import keras\n",
        "from keras import Sequential\n",
        "from keras.layers import Dense\n",
        "from keras.models import load_model\n",
        "from keras.callbacks import ModelCheckpoint\n",
        "from sklearn.datasets import load_iris\n",
        "from sklearn.model_selection import train_test_split"
      ]
    },
    {
      "cell_type": "code",
      "source": [
        "iris = load_iris()"
      ],
      "metadata": {
        "id": "nabJFdHu1fuF"
      },
      "execution_count": null,
      "outputs": []
    },
    {
      "cell_type": "code",
      "source": [
        "X = iris.data\n",
        "y = iris.target\n",
        "X.shape[1]"
      ],
      "metadata": {
        "colab": {
          "base_uri": "https://localhost:8080/"
        },
        "id": "We7ULVLL1rwZ",
        "outputId": "ea442573-68be-44ca-caa0-122e6fc86196"
      },
      "execution_count": null,
      "outputs": [
        {
          "output_type": "execute_result",
          "data": {
            "text/plain": [
              "4"
            ]
          },
          "metadata": {},
          "execution_count": 3
        }
      ]
    },
    {
      "cell_type": "code",
      "source": [
        "X_train, X_test, y_train, y_test = train_test_split(X, y, test_size=0.2, random_state=42)"
      ],
      "metadata": {
        "id": "zg0u5yQ21xc4"
      },
      "execution_count": null,
      "outputs": []
    },
    {
      "cell_type": "code",
      "source": [
        "model = Sequential([\n",
        "    Dense(4, activation='relu', input_shape=(X_train.shape[1],)),\n",
        "    Dense(8, activation='relu'),\n",
        "    Dense(3, activation='softmax')\n",
        "])"
      ],
      "metadata": {
        "id": "u2tmWcnL2QAZ"
      },
      "execution_count": null,
      "outputs": []
    },
    {
      "cell_type": "code",
      "source": [
        "model.compile(loss='sparse_categorical_crossentropy', optimizer='Adam', metrics=['accuracy'])"
      ],
      "metadata": {
        "id": "cGFKliFe4217"
      },
      "execution_count": null,
      "outputs": []
    },
    {
      "cell_type": "code",
      "source": [
        "history = model.fit(X_train, y_train, epochs=50, batch_size=32, validation_split=0.2)"
      ],
      "metadata": {
        "colab": {
          "base_uri": "https://localhost:8080/"
        },
        "id": "5do_GqXO5R8V",
        "outputId": "58bdcd09-d6c7-43ec-881b-f6dd796768ed"
      },
      "execution_count": null,
      "outputs": [
        {
          "output_type": "stream",
          "name": "stdout",
          "text": [
            "Epoch 1/50\n",
            "3/3 [==============================] - 0s 40ms/step - loss: 0.5970 - accuracy: 0.9062 - val_loss: 0.6848 - val_accuracy: 0.9167\n",
            "Epoch 2/50\n",
            "3/3 [==============================] - 0s 16ms/step - loss: 0.5949 - accuracy: 0.9062 - val_loss: 0.6818 - val_accuracy: 0.9167\n",
            "Epoch 3/50\n",
            "3/3 [==============================] - 0s 28ms/step - loss: 0.5929 - accuracy: 0.8958 - val_loss: 0.6792 - val_accuracy: 0.9583\n",
            "Epoch 4/50\n",
            "3/3 [==============================] - 0s 16ms/step - loss: 0.5907 - accuracy: 0.8958 - val_loss: 0.6768 - val_accuracy: 0.9583\n",
            "Epoch 5/50\n",
            "3/3 [==============================] - 0s 16ms/step - loss: 0.5886 - accuracy: 0.9062 - val_loss: 0.6747 - val_accuracy: 0.9583\n",
            "Epoch 6/50\n",
            "3/3 [==============================] - 0s 16ms/step - loss: 0.5866 - accuracy: 0.9062 - val_loss: 0.6726 - val_accuracy: 0.9583\n",
            "Epoch 7/50\n",
            "3/3 [==============================] - 0s 16ms/step - loss: 0.5844 - accuracy: 0.9062 - val_loss: 0.6701 - val_accuracy: 0.9583\n",
            "Epoch 8/50\n",
            "3/3 [==============================] - 0s 17ms/step - loss: 0.5823 - accuracy: 0.9062 - val_loss: 0.6674 - val_accuracy: 0.9583\n",
            "Epoch 9/50\n",
            "3/3 [==============================] - 0s 55ms/step - loss: 0.5802 - accuracy: 0.9062 - val_loss: 0.6645 - val_accuracy: 0.9583\n",
            "Epoch 10/50\n",
            "3/3 [==============================] - 0s 74ms/step - loss: 0.5781 - accuracy: 0.9167 - val_loss: 0.6618 - val_accuracy: 1.0000\n",
            "Epoch 11/50\n",
            "3/3 [==============================] - 0s 91ms/step - loss: 0.5760 - accuracy: 0.9167 - val_loss: 0.6592 - val_accuracy: 1.0000\n",
            "Epoch 12/50\n",
            "3/3 [==============================] - 0s 54ms/step - loss: 0.5739 - accuracy: 0.9167 - val_loss: 0.6568 - val_accuracy: 1.0000\n",
            "Epoch 13/50\n",
            "3/3 [==============================] - 0s 16ms/step - loss: 0.5719 - accuracy: 0.9167 - val_loss: 0.6546 - val_accuracy: 1.0000\n",
            "Epoch 14/50\n",
            "3/3 [==============================] - 0s 17ms/step - loss: 0.5699 - accuracy: 0.9167 - val_loss: 0.6521 - val_accuracy: 1.0000\n",
            "Epoch 15/50\n",
            "3/3 [==============================] - 0s 17ms/step - loss: 0.5678 - accuracy: 0.9167 - val_loss: 0.6496 - val_accuracy: 1.0000\n",
            "Epoch 16/50\n",
            "3/3 [==============================] - 0s 29ms/step - loss: 0.5657 - accuracy: 0.9167 - val_loss: 0.6471 - val_accuracy: 1.0000\n",
            "Epoch 17/50\n",
            "3/3 [==============================] - 0s 16ms/step - loss: 0.5636 - accuracy: 0.9167 - val_loss: 0.6446 - val_accuracy: 1.0000\n",
            "Epoch 18/50\n",
            "3/3 [==============================] - 0s 17ms/step - loss: 0.5616 - accuracy: 0.9167 - val_loss: 0.6421 - val_accuracy: 1.0000\n",
            "Epoch 19/50\n",
            "3/3 [==============================] - 0s 16ms/step - loss: 0.5596 - accuracy: 0.9167 - val_loss: 0.6399 - val_accuracy: 1.0000\n",
            "Epoch 20/50\n",
            "3/3 [==============================] - 0s 16ms/step - loss: 0.5575 - accuracy: 0.9167 - val_loss: 0.6377 - val_accuracy: 1.0000\n",
            "Epoch 21/50\n",
            "3/3 [==============================] - 0s 16ms/step - loss: 0.5554 - accuracy: 0.9167 - val_loss: 0.6351 - val_accuracy: 1.0000\n",
            "Epoch 22/50\n",
            "3/3 [==============================] - 0s 16ms/step - loss: 0.5533 - accuracy: 0.9167 - val_loss: 0.6322 - val_accuracy: 1.0000\n",
            "Epoch 23/50\n",
            "3/3 [==============================] - 0s 18ms/step - loss: 0.5513 - accuracy: 0.9167 - val_loss: 0.6295 - val_accuracy: 1.0000\n",
            "Epoch 24/50\n",
            "3/3 [==============================] - 0s 16ms/step - loss: 0.5492 - accuracy: 0.9167 - val_loss: 0.6270 - val_accuracy: 1.0000\n",
            "Epoch 25/50\n",
            "3/3 [==============================] - 0s 17ms/step - loss: 0.5473 - accuracy: 0.9167 - val_loss: 0.6244 - val_accuracy: 1.0000\n",
            "Epoch 26/50\n",
            "3/3 [==============================] - 0s 15ms/step - loss: 0.5452 - accuracy: 0.9167 - val_loss: 0.6220 - val_accuracy: 1.0000\n",
            "Epoch 27/50\n",
            "3/3 [==============================] - 0s 17ms/step - loss: 0.5432 - accuracy: 0.9271 - val_loss: 0.6191 - val_accuracy: 1.0000\n",
            "Epoch 28/50\n",
            "3/3 [==============================] - 0s 17ms/step - loss: 0.5411 - accuracy: 0.9271 - val_loss: 0.6167 - val_accuracy: 1.0000\n",
            "Epoch 29/50\n",
            "3/3 [==============================] - 0s 16ms/step - loss: 0.5389 - accuracy: 0.9271 - val_loss: 0.6140 - val_accuracy: 1.0000\n",
            "Epoch 30/50\n",
            "3/3 [==============================] - 0s 16ms/step - loss: 0.5370 - accuracy: 0.9271 - val_loss: 0.6112 - val_accuracy: 1.0000\n",
            "Epoch 31/50\n",
            "3/3 [==============================] - 0s 16ms/step - loss: 0.5348 - accuracy: 0.9375 - val_loss: 0.6086 - val_accuracy: 1.0000\n",
            "Epoch 32/50\n",
            "3/3 [==============================] - 0s 16ms/step - loss: 0.5329 - accuracy: 0.9375 - val_loss: 0.6061 - val_accuracy: 1.0000\n",
            "Epoch 33/50\n",
            "3/3 [==============================] - 0s 17ms/step - loss: 0.5308 - accuracy: 0.9375 - val_loss: 0.6037 - val_accuracy: 1.0000\n",
            "Epoch 34/50\n",
            "3/3 [==============================] - 0s 17ms/step - loss: 0.5288 - accuracy: 0.9375 - val_loss: 0.6012 - val_accuracy: 1.0000\n",
            "Epoch 35/50\n",
            "3/3 [==============================] - 0s 18ms/step - loss: 0.5267 - accuracy: 0.9375 - val_loss: 0.5985 - val_accuracy: 1.0000\n",
            "Epoch 36/50\n",
            "3/3 [==============================] - 0s 18ms/step - loss: 0.5247 - accuracy: 0.9375 - val_loss: 0.5961 - val_accuracy: 1.0000\n",
            "Epoch 37/50\n",
            "3/3 [==============================] - 0s 18ms/step - loss: 0.5226 - accuracy: 0.9375 - val_loss: 0.5932 - val_accuracy: 1.0000\n",
            "Epoch 38/50\n",
            "3/3 [==============================] - 0s 17ms/step - loss: 0.5207 - accuracy: 0.9375 - val_loss: 0.5908 - val_accuracy: 1.0000\n",
            "Epoch 39/50\n",
            "3/3 [==============================] - 0s 30ms/step - loss: 0.5185 - accuracy: 0.9375 - val_loss: 0.5881 - val_accuracy: 1.0000\n",
            "Epoch 40/50\n",
            "3/3 [==============================] - 0s 17ms/step - loss: 0.5165 - accuracy: 0.9375 - val_loss: 0.5854 - val_accuracy: 1.0000\n",
            "Epoch 41/50\n",
            "3/3 [==============================] - 0s 26ms/step - loss: 0.5146 - accuracy: 0.9375 - val_loss: 0.5825 - val_accuracy: 1.0000\n",
            "Epoch 42/50\n",
            "3/3 [==============================] - 0s 18ms/step - loss: 0.5125 - accuracy: 0.9375 - val_loss: 0.5799 - val_accuracy: 1.0000\n",
            "Epoch 43/50\n",
            "3/3 [==============================] - 0s 16ms/step - loss: 0.5104 - accuracy: 0.9375 - val_loss: 0.5775 - val_accuracy: 1.0000\n",
            "Epoch 44/50\n",
            "3/3 [==============================] - 0s 16ms/step - loss: 0.5084 - accuracy: 0.9375 - val_loss: 0.5750 - val_accuracy: 1.0000\n",
            "Epoch 45/50\n",
            "3/3 [==============================] - 0s 17ms/step - loss: 0.5063 - accuracy: 0.9375 - val_loss: 0.5728 - val_accuracy: 1.0000\n",
            "Epoch 46/50\n",
            "3/3 [==============================] - 0s 19ms/step - loss: 0.5043 - accuracy: 0.9375 - val_loss: 0.5702 - val_accuracy: 1.0000\n",
            "Epoch 47/50\n",
            "3/3 [==============================] - 0s 18ms/step - loss: 0.5023 - accuracy: 0.9375 - val_loss: 0.5674 - val_accuracy: 1.0000\n",
            "Epoch 48/50\n",
            "3/3 [==============================] - 0s 16ms/step - loss: 0.5002 - accuracy: 0.9375 - val_loss: 0.5651 - val_accuracy: 1.0000\n",
            "Epoch 49/50\n",
            "3/3 [==============================] - 0s 17ms/step - loss: 0.4981 - accuracy: 0.9479 - val_loss: 0.5625 - val_accuracy: 1.0000\n",
            "Epoch 50/50\n",
            "3/3 [==============================] - 0s 16ms/step - loss: 0.4962 - accuracy: 0.9479 - val_loss: 0.5603 - val_accuracy: 1.0000\n"
          ]
        }
      ]
    },
    {
      "cell_type": "code",
      "source": [
        "loss, accuracy = model.evaluate(X_test, y_test)\n",
        "print(f'Test_Accuracy:{accuracy}')"
      ],
      "metadata": {
        "colab": {
          "base_uri": "https://localhost:8080/"
        },
        "id": "Ksxta44L8n8i",
        "outputId": "b5d9b821-ab73-4771-84a2-4bb43a73f037"
      },
      "execution_count": null,
      "outputs": [
        {
          "output_type": "stream",
          "name": "stdout",
          "text": [
            "1/1 [==============================] - 0s 25ms/step - loss: 0.5212 - accuracy: 0.9667\n",
            "Test_Accuracy:0.9666666388511658\n"
          ]
        }
      ]
    },
    {
      "cell_type": "code",
      "source": [
        "plt.plot(history.history['loss'], label='Loss', color='r')\n",
        "plt.plot(history.history['val_loss'], label='Validation Loss', color='g')\n",
        "plt.legend()"
      ],
      "metadata": {
        "colab": {
          "base_uri": "https://localhost:8080/",
          "height": 447
        },
        "id": "95NCdaSZD7dM",
        "outputId": "73f552fb-5da2-4946-a5a9-6c88d46211f3"
      },
      "execution_count": null,
      "outputs": [
        {
          "output_type": "execute_result",
          "data": {
            "text/plain": [
              "<matplotlib.legend.Legend at 0x78b485e61b10>"
            ]
          },
          "metadata": {},
          "execution_count": 15
        },
        {
          "output_type": "display_data",
          "data": {
            "text/plain": [
              "<Figure size 640x480 with 1 Axes>"
            ],
            "image/png": "[encoded data removed]"
          },
          "metadata": {}
        }
      ]
    },
    {
      "cell_type": "code",
      "source": [
        "plt.plot(history.history['accuracy'], label='Accuracy', color='r')\n",
        "plt.plot(history.history['val_accuracy'], label='Validation Accuracy', color='g')\n",
        "plt.legend()"
      ],
      "metadata": {
        "colab": {
          "base_uri": "https://localhost:8080/",
          "height": 447
        },
        "id": "JKP6YObNLjSl",
        "outputId": "7bcfde70-3e54-43d6-e030-dfad70b3d10f"
      },
      "execution_count": null,
      "outputs": [
        {
          "output_type": "execute_result",
          "data": {
            "text/plain": [
              "<matplotlib.legend.Legend at 0x78b494d34190>"
            ]
          },
          "metadata": {},
          "execution_count": 16
        },
        {
          "output_type": "display_data",
          "data": {
            "text/plain": [
              "<Figure size 640x480 with 1 Axes>"
            ],
            "image/png": "[encoded data removed]"
          },
          "metadata": {}
        }
      ]
    },
    {
      "cell_type": "code",
      "source": [
        "model.save('iris_saved_model')  # Save trained model"
      ],
      "metadata": {
        "id": "H4VRrVJmTdLU"
      },
      "execution_count": null,
      "outputs": []
    },
    {
      "cell_type": "markdown",
      "source": [
        "**Train model with new data through previously trained saved model**"
      ],
      "metadata": {
        "id": "Z7-BBkY5W51p"
      }
    },
    {
      "cell_type": "code",
      "source": [
        "saved_model = load_model('iris_saved_model') # Load previouly saved model"
      ],
      "metadata": {
        "id": "9EJ4zn50XM2C"
      },
      "execution_count": null,
      "outputs": []
    },
    {
      "cell_type": "code",
      "source": [
        "prediction = saved_model.predict(X_test)"
      ],
      "metadata": {
        "colab": {
          "base_uri": "https://localhost:8080/"
        },
        "id": "WLBLs08zZ6gm",
        "outputId": "0737098f-e9a9-4e67-c353-972279803acb"
      },
      "execution_count": null,
      "outputs": [
        {
          "output_type": "stream",
          "name": "stdout",
          "text": [
            "1/1 [==============================] - 0s 21ms/step\n"
          ]
        }
      ]
    },
    {
      "cell_type": "code",
      "source": [
        "print('Predicted Values are : ', end='\\n\\n')\n",
        "prediction # Show the results of prediction value of new data"
      ],
      "metadata": {
        "colab": {
          "base_uri": "https://localhost:8080/"
        },
        "id": "srXoPXVthzXw",
        "outputId": "08fde83c-ef4f-415d-9313-c2508b714836"
      },
      "execution_count": null,
      "outputs": [
        {
          "output_type": "stream",
          "name": "stdout",
          "text": [
            "Predicted Values are : \n",
            "\n"
          ]
        },
        {
          "output_type": "execute_result",
          "data": {
            "text/plain": [
              "array([[2.2913212e-01, 4.5946005e-01, 3.1140772e-01],\n",
              "       [9.5680285e-01, 4.2651970e-02, 5.4526230e-04],\n",
              "       [1.3289702e-01, 3.4848216e-01, 5.1862073e-01],\n",
              "       [2.2961184e-01, 4.5984989e-01, 3.1053823e-01],\n",
              "       [2.6225188e-01, 4.8287332e-01, 2.5487477e-01],\n",
              "       [9.4043368e-01, 5.8543976e-02, 1.0222802e-03],\n",
              "       [4.1978794e-01, 4.4977000e-01, 1.3044205e-01],\n",
              "       [1.6370249e-01, 3.9151481e-01, 4.4478273e-01],\n",
              "       [1.7007028e-01, 3.9947376e-01, 4.3045598e-01],\n",
              "       [3.4682080e-01, 4.7516742e-01, 1.7801169e-01],\n",
              "       [1.6745608e-01, 3.9624339e-01, 4.3630052e-01],\n",
              "       [9.1717392e-01, 8.0871396e-02, 1.9545560e-03],\n",
              "       [9.6132183e-01, 3.8238712e-02, 4.3950923e-04],\n",
              "       [9.1985834e-01, 7.8310043e-02, 1.8316181e-03],\n",
              "       [9.4903022e-01, 5.0216291e-02, 7.5339555e-04],\n",
              "       [2.6414442e-01, 4.8399976e-01, 2.5185573e-01],\n",
              "       [1.3289702e-01, 3.4848216e-01, 5.1862073e-01],\n",
              "       [2.8986418e-01, 4.8572460e-01, 2.2441114e-01],\n",
              "       [2.0968670e-01, 4.4237041e-01, 3.4794286e-01],\n",
              "       [1.3289702e-01, 3.4848216e-01, 5.1862073e-01],\n",
              "       [9.0252620e-01, 9.4777070e-02, 2.6966496e-03],\n",
              "       [1.5828699e-01, 3.8450253e-01, 4.5721042e-01],\n",
              "       [9.1824800e-01, 7.9847097e-02, 1.9048861e-03],\n",
              "       [1.3289702e-01, 3.4848216e-01, 5.1862073e-01],\n",
              "       [1.7222552e-01, 4.0209851e-01, 4.2567602e-01],\n",
              "       [1.3289703e-01, 3.4848219e-01, 5.1862079e-01],\n",
              "       [1.3289703e-01, 3.4848219e-01, 5.1862079e-01],\n",
              "       [1.3289703e-01, 3.4848219e-01, 5.1862079e-01],\n",
              "       [9.0648800e-01, 9.1028064e-02, 2.4840184e-03],\n",
              "       [9.0167606e-01, 9.5580518e-02, 2.7434418e-03]], dtype=float32)"
            ]
          },
          "metadata": {},
          "execution_count": 44
        }
      ]
    },
    {
      "cell_type": "code",
      "source": [
        "predicted_classes = np.argmax(prediction, axis=1)\n",
        "print('Predicted Classes: ', predicted_classes)  # Show the results of prediction, index of max value"
      ],
      "metadata": {
        "colab": {
          "base_uri": "https://localhost:8080/"
        },
        "id": "tC1RtosTagyy",
        "outputId": "6f5d3d48-8de2-4137-e24d-0a074f51122b"
      },
      "execution_count": null,
      "outputs": [
        {
          "output_type": "stream",
          "name": "stdout",
          "text": [
            "Predicted Classes:  [1 0 2 1 1 0 1 2 2 1 2 0 0 0 0 1 2 1 1 2 0 2 0 2 2 2 2 2 0 0]\n"
          ]
        }
      ]
    },
    {
      "cell_type": "code",
      "source": [
        "print('Actual Classes: ', y_test) # Show the results of actual value of index (dataset input values)"
      ],
      "metadata": {
        "colab": {
          "base_uri": "https://localhost:8080/"
        },
        "id": "DE_SAgCnbUgS",
        "outputId": "3810757e-bb30-46fa-f2e8-1356d9c2f787"
      },
      "execution_count": null,
      "outputs": [
        {
          "output_type": "stream",
          "name": "stdout",
          "text": [
            "Actual Classes:  [1 0 2 1 1 0 1 2 1 1 2 0 0 0 0 1 2 1 1 2 0 2 0 2 2 2 2 2 0 0]\n"
          ]
        }
      ]
    },
    {
      "cell_type": "markdown",
      "source": [
        "**Epochs with Check Point**"
      ],
      "metadata": {
        "id": "xXmXVYU1rZyD"
      }
    },
    {
      "cell_type": "code",
      "source": [
        "model = Sequential([\n",
        "    Dense(4, activation='relu', input_shape=(X_train.shape[1],)),\n",
        "    Dense(8, activation='relu'),\n",
        "    Dense(3, activation='softmax')\n",
        "])"
      ],
      "metadata": {
        "id": "zbn4bS51rpFa"
      },
      "execution_count": null,
      "outputs": []
    },
    {
      "cell_type": "code",
      "source": [
        "model.compile(loss='sparse_categorical_crossentropy', optimizer='Adam', metrics=['accuracy'])"
      ],
      "metadata": {
        "id": "Pu0znavRtTIU"
      },
      "execution_count": null,
      "outputs": []
    },
    {
      "cell_type": "code",
      "source": [
        "checkpoint_filepath = 'iris_saved_model'  # Include saved model\n",
        "model_checkpoint_callback = ModelCheckpoint(\n",
        "    filepath=checkpoint_filepath,\n",
        "    monitor='vall_accuracy',\n",
        "    mode='max',\n",
        "    save_weights_only=False,\n",
        "    save_best_only=True\n",
        ")"
      ],
      "metadata": {
        "id": "yfJBrvgIt2_V"
      },
      "execution_count": null,
      "outputs": []
    },
    {
      "cell_type": "code",
      "source": [
        "history = model.fit(X_train, y_train, epochs=50, batch_size=32, validation_split=0.2)"
      ],
      "metadata": {
        "colab": {
          "base_uri": "https://localhost:8080/"
        },
        "id": "yQwGJvmhv2t1",
        "outputId": "fb3f4ffa-8168-47ee-ed26-33ff2dab17a6"
      },
      "execution_count": null,
      "outputs": [
        {
          "output_type": "stream",
          "name": "stdout",
          "text": [
            "Epoch 1/50\n",
            "1/3 [=========>....................] - ETA: 0s - loss: 0.7998 - accuracy: 0.7812"
          ]
        },
        {
          "output_type": "stream",
          "name": "stderr",
          "text": [
            "WARNING:tensorflow:Can save best model only with vall_accuracy available, skipping.\n"
          ]
        },
        {
          "output_type": "stream",
          "name": "stdout",
          "text": [
            "\b\b\b\b\b\b\b\b\b\b\b\b\b\b\b\b\b\b\b\b\b\b\b\b\b\b\b\b\b\b\b\b\b\b\b\b\b\b\b\b\b\b\b\b\b\b\b\b\b\b\b\b\b\b\b\b\b\b\b\b\b\b\b\b\b\b\b\b\b\b\b\b\b\b\b\b\b\b\b\b\r3/3 [==============================] - 0s 57ms/step - loss: 0.9461 - accuracy: 0.6458 - val_loss: 0.9310 - val_accuracy: 0.7083\n",
            "Epoch 2/50\n",
            "1/3 [=========>....................] - ETA: 0s - loss: 0.9360 - accuracy: 0.6562"
          ]
        },
        {
          "output_type": "stream",
          "name": "stderr",
          "text": [
            "WARNING:tensorflow:Can save best model only with vall_accuracy available, skipping.\n"
          ]
        },
        {
          "output_type": "stream",
          "name": "stdout",
          "text": [
            "\b\b\b\b\b\b\b\b\b\b\b\b\b\b\b\b\b\b\b\b\b\b\b\b\b\b\b\b\b\b\b\b\b\b\b\b\b\b\b\b\b\b\b\b\b\b\b\b\b\b\b\b\b\b\b\b\b\b\b\b\b\b\b\b\b\b\b\b\b\b\b\b\b\b\b\b\b\b\b\b\r3/3 [==============================] - 0s 27ms/step - loss: 0.9290 - accuracy: 0.6458 - val_loss: 0.9197 - val_accuracy: 0.7083\n",
            "Epoch 3/50\n",
            "1/3 [=========>....................] - ETA: 0s - loss: 0.8651 - accuracy: 0.7188"
          ]
        },
        {
          "output_type": "stream",
          "name": "stderr",
          "text": [
            "WARNING:tensorflow:Can save best model only with vall_accuracy available, skipping.\n"
          ]
        },
        {
          "output_type": "stream",
          "name": "stdout",
          "text": [
            "\b\b\b\b\b\b\b\b\b\b\b\b\b\b\b\b\b\b\b\b\b\b\b\b\b\b\b\b\b\b\b\b\b\b\b\b\b\b\b\b\b\b\b\b\b\b\b\b\b\b\b\b\b\b\b\b\b\b\b\b\b\b\b\b\b\b\b\b\b\b\b\b\b\b\b\b\b\b\b\b\r3/3 [==============================] - 0s 29ms/step - loss: 0.9121 - accuracy: 0.6458 - val_loss: 0.9091 - val_accuracy: 0.7083\n",
            "Epoch 4/50\n",
            "1/3 [=========>....................] - ETA: 0s - loss: 0.8297 - accuracy: 0.7188"
          ]
        },
        {
          "output_type": "stream",
          "name": "stderr",
          "text": [
            "WARNING:tensorflow:Can save best model only with vall_accuracy available, skipping.\n"
          ]
        },
        {
          "output_type": "stream",
          "name": "stdout",
          "text": [
            "\b\b\b\b\b\b\b\b\b\b\b\b\b\b\b\b\b\b\b\b\b\b\b\b\b\b\b\b\b\b\b\b\b\b\b\b\b\b\b\b\b\b\b\b\b\b\b\b\b\b\b\b\b\b\b\b\b\b\b\b\b\b\b\b\b\b\b\b\b\b\b\b\b\b\b\b\b\b\b\b\r3/3 [==============================] - 0s 21ms/step - loss: 0.8961 - accuracy: 0.6458 - val_loss: 0.8980 - val_accuracy: 0.7083\n",
            "Epoch 5/50\n",
            "1/3 [=========>....................] - ETA: 0s - loss: 0.9043 - accuracy: 0.5938"
          ]
        },
        {
          "output_type": "stream",
          "name": "stderr",
          "text": [
            "WARNING:tensorflow:Can save best model only with vall_accuracy available, skipping.\n"
          ]
        },
        {
          "output_type": "stream",
          "name": "stdout",
          "text": [
            "\b\b\b\b\b\b\b\b\b\b\b\b\b\b\b\b\b\b\b\b\b\b\b\b\b\b\b\b\b\b\b\b\b\b\b\b\b\b\b\b\b\b\b\b\b\b\b\b\b\b\b\b\b\b\b\b\b\b\b\b\b\b\b\b\b\b\b\b\b\b\b\b\b\b\b\b\b\b\b\b\r3/3 [==============================] - 0s 32ms/step - loss: 0.8786 - accuracy: 0.6458 - val_loss: 0.8872 - val_accuracy: 0.7083\n",
            "Epoch 6/50\n",
            "1/3 [=========>....................] - ETA: 0s - loss: 0.8813 - accuracy: 0.6250"
          ]
        },
        {
          "output_type": "stream",
          "name": "stderr",
          "text": [
            "WARNING:tensorflow:Can save best model only with vall_accuracy available, skipping.\n"
          ]
        },
        {
          "output_type": "stream",
          "name": "stdout",
          "text": [
            "\b\b\b\b\b\b\b\b\b\b\b\b\b\b\b\b\b\b\b\b\b\b\b\b\b\b\b\b\b\b\b\b\b\b\b\b\b\b\b\b\b\b\b\b\b\b\b\b\b\b\b\b\b\b\b\b\b\b\b\b\b\b\b\b\b\b\b\b\b\b\b\b\b\b\b\b\b\b\b\b\r3/3 [==============================] - 0s 29ms/step - loss: 0.8594 - accuracy: 0.6458 - val_loss: 0.8750 - val_accuracy: 0.7083\n",
            "Epoch 7/50\n",
            "1/3 [=========>....................] - ETA: 0s - loss: 0.7848 - accuracy: 0.7188"
          ]
        },
        {
          "output_type": "stream",
          "name": "stderr",
          "text": [
            "WARNING:tensorflow:Can save best model only with vall_accuracy available, skipping.\n"
          ]
        },
        {
          "output_type": "stream",
          "name": "stdout",
          "text": [
            "\b\b\b\b\b\b\b\b\b\b\b\b\b\b\b\b\b\b\b\b\b\b\b\b\b\b\b\b\b\b\b\b\b\b\b\b\b\b\b\b\b\b\b\b\b\b\b\b\b\b\b\b\b\b\b\b\b\b\b\b\b\b\b\b\b\b\b\b\b\b\b\b\b\b\b\b\b\b\b\b\r3/3 [==============================] - 0s 22ms/step - loss: 0.8405 - accuracy: 0.6458 - val_loss: 0.8629 - val_accuracy: 0.7083\n",
            "Epoch 8/50\n",
            "1/3 [=========>....................] - ETA: 0s - loss: 0.8095 - accuracy: 0.6875"
          ]
        },
        {
          "output_type": "stream",
          "name": "stderr",
          "text": [
            "WARNING:tensorflow:Can save best model only with vall_accuracy available, skipping.\n"
          ]
        },
        {
          "output_type": "stream",
          "name": "stdout",
          "text": [
            "\b\b\b\b\b\b\b\b\b\b\b\b\b\b\b\b\b\b\b\b\b\b\b\b\b\b\b\b\b\b\b\b\b\b\b\b\b\b\b\b\b\b\b\b\b\b\b\b\b\b\b\b\b\b\b\b\b\b\b\b\b\b\b\b\b\b\b\b\b\b\b\b\b\b\b\b\b\b\b\b\r3/3 [==============================] - 0s 30ms/step - loss: 0.8216 - accuracy: 0.6458 - val_loss: 0.8526 - val_accuracy: 0.7083\n",
            "Epoch 9/50\n",
            "1/3 [=========>....................] - ETA: 0s - loss: 0.8089 - accuracy: 0.7188"
          ]
        },
        {
          "output_type": "stream",
          "name": "stderr",
          "text": [
            "WARNING:tensorflow:Can save best model only with vall_accuracy available, skipping.\n"
          ]
        },
        {
          "output_type": "stream",
          "name": "stdout",
          "text": [
            "\b\b\b\b\b\b\b\b\b\b\b\b\b\b\b\b\b\b\b\b\b\b\b\b\b\b\b\b\b\b\b\b\b\b\b\b\b\b\b\b\b\b\b\b\b\b\b\b\b\b\b\b\b\b\b\b\b\b\b\b\b\b\b\b\b\b\b\b\b\b\b\b\b\b\b\b\b\b\b\b\r3/3 [==============================] - 0s 29ms/step - loss: 0.8049 - accuracy: 0.6458 - val_loss: 0.8468 - val_accuracy: 0.7083\n",
            "Epoch 10/50\n",
            "1/3 [=========>....................] - ETA: 0s - loss: 0.8144 - accuracy: 0.6250"
          ]
        },
        {
          "output_type": "stream",
          "name": "stderr",
          "text": [
            "WARNING:tensorflow:Can save best model only with vall_accuracy available, skipping.\n"
          ]
        },
        {
          "output_type": "stream",
          "name": "stdout",
          "text": [
            "\b\b\b\b\b\b\b\b\b\b\b\b\b\b\b\b\b\b\b\b\b\b\b\b\b\b\b\b\b\b\b\b\b\b\b\b\b\b\b\b\b\b\b\b\b\b\b\b\b\b\b\b\b\b\b\b\b\b\b\b\b\b\b\b\b\b\b\b\b\b\b\b\b\b\b\b\b\b\b\b\r3/3 [==============================] - 0s 36ms/step - loss: 0.7929 - accuracy: 0.6458 - val_loss: 0.8413 - val_accuracy: 0.7083\n",
            "Epoch 11/50\n",
            "1/3 [=========>....................] - ETA: 0s - loss: 0.8047 - accuracy: 0.6562"
          ]
        },
        {
          "output_type": "stream",
          "name": "stderr",
          "text": [
            "WARNING:tensorflow:Can save best model only with vall_accuracy available, skipping.\n"
          ]
        },
        {
          "output_type": "stream",
          "name": "stdout",
          "text": [
            "\b\b\b\b\b\b\b\b\b\b\b\b\b\b\b\b\b\b\b\b\b\b\b\b\b\b\b\b\b\b\b\b\b\b\b\b\b\b\b\b\b\b\b\b\b\b\b\b\b\b\b\b\b\b\b\b\b\b\b\b\b\b\b\b\b\b\b\b\b\b\b\b\b\b\b\b\b\b\b\b\r3/3 [==============================] - 0s 21ms/step - loss: 0.7792 - accuracy: 0.6562 - val_loss: 0.8290 - val_accuracy: 0.7500\n",
            "Epoch 12/50\n",
            "1/3 [=========>....................] - ETA: 0s - loss: 0.8349 - accuracy: 0.5938"
          ]
        },
        {
          "output_type": "stream",
          "name": "stderr",
          "text": [
            "WARNING:tensorflow:Can save best model only with vall_accuracy available, skipping.\n"
          ]
        },
        {
          "output_type": "stream",
          "name": "stdout",
          "text": [
            "\b\b\b\b\b\b\b\b\b\b\b\b\b\b\b\b\b\b\b\b\b\b\b\b\b\b\b\b\b\b\b\b\b\b\b\b\b\b\b\b\b\b\b\b\b\b\b\b\b\b\b\b\b\b\b\b\b\b\b\b\b\b\b\b\b\b\b\b\b\b\b\b\b\b\b\b\b\b\b\b\r3/3 [==============================] - 0s 22ms/step - loss: 0.7650 - accuracy: 0.6667 - val_loss: 0.8172 - val_accuracy: 0.7500\n",
            "Epoch 13/50\n",
            "1/3 [=========>....................] - ETA: 0s - loss: 0.8209 - accuracy: 0.6250"
          ]
        },
        {
          "output_type": "stream",
          "name": "stderr",
          "text": [
            "WARNING:tensorflow:Can save best model only with vall_accuracy available, skipping.\n"
          ]
        },
        {
          "output_type": "stream",
          "name": "stdout",
          "text": [
            "\b\b\b\b\b\b\b\b\b\b\b\b\b\b\b\b\b\b\b\b\b\b\b\b\b\b\b\b\b\b\b\b\b\b\b\b\b\b\b\b\b\b\b\b\b\b\b\b\b\b\b\b\b\b\b\b\b\b\b\b\b\b\b\b\b\b\b\b\b\b\b\b\b\b\b\b\b\b\b\b\r3/3 [==============================] - 0s 28ms/step - loss: 0.7514 - accuracy: 0.6667 - val_loss: 0.8065 - val_accuracy: 0.7500\n",
            "Epoch 14/50\n",
            "1/3 [=========>....................] - ETA: 0s - loss: 0.6614 - accuracy: 0.7500"
          ]
        },
        {
          "output_type": "stream",
          "name": "stderr",
          "text": [
            "WARNING:tensorflow:Can save best model only with vall_accuracy available, skipping.\n"
          ]
        },
        {
          "output_type": "stream",
          "name": "stdout",
          "text": [
            "\b\b\b\b\b\b\b\b\b\b\b\b\b\b\b\b\b\b\b\b\b\b\b\b\b\b\b\b\b\b\b\b\b\b\b\b\b\b\b\b\b\b\b\b\b\b\b\b\b\b\b\b\b\b\b\b\b\b\b\b\b\b\b\b\b\b\b\b\b\b\b\b\b\b\b\b\b\b\b\b\r3/3 [==============================] - 0s 19ms/step - loss: 0.7387 - accuracy: 0.6771 - val_loss: 0.7973 - val_accuracy: 0.7500\n",
            "Epoch 15/50\n",
            "1/3 [=========>....................] - ETA: 0s - loss: 0.8003 - accuracy: 0.6562"
          ]
        },
        {
          "output_type": "stream",
          "name": "stderr",
          "text": [
            "WARNING:tensorflow:Can save best model only with vall_accuracy available, skipping.\n"
          ]
        },
        {
          "output_type": "stream",
          "name": "stdout",
          "text": [
            "\b\b\b\b\b\b\b\b\b\b\b\b\b\b\b\b\b\b\b\b\b\b\b\b\b\b\b\b\b\b\b\b\b\b\b\b\b\b\b\b\b\b\b\b\b\b\b\b\b\b\b\b\b\b\b\b\b\b\b\b\b\b\b\b\b\b\b\b\b\b\b\b\b\b\b\b\b\b\b\b\r3/3 [==============================] - 0s 23ms/step - loss: 0.7270 - accuracy: 0.6875 - val_loss: 0.7885 - val_accuracy: 0.7500\n",
            "Epoch 16/50\n",
            "1/3 [=========>....................] - ETA: 0s - loss: 0.6787 - accuracy: 0.6875"
          ]
        },
        {
          "output_type": "stream",
          "name": "stderr",
          "text": [
            "WARNING:tensorflow:Can save best model only with vall_accuracy available, skipping.\n"
          ]
        },
        {
          "output_type": "stream",
          "name": "stdout",
          "text": [
            "\b\b\b\b\b\b\b\b\b\b\b\b\b\b\b\b\b\b\b\b\b\b\b\b\b\b\b\b\b\b\b\b\b\b\b\b\b\b\b\b\b\b\b\b\b\b\b\b\b\b\b\b\b\b\b\b\b\b\b\b\b\b\b\b\b\b\b\b\b\b\b\b\b\b\b\b\b\b\b\b\r3/3 [==============================] - 0s 22ms/step - loss: 0.7162 - accuracy: 0.7083 - val_loss: 0.7810 - val_accuracy: 0.7500\n",
            "Epoch 17/50\n",
            "1/3 [=========>....................] - ETA: 0s - loss: 0.7623 - accuracy: 0.7188"
          ]
        },
        {
          "output_type": "stream",
          "name": "stderr",
          "text": [
            "WARNING:tensorflow:Can save best model only with vall_accuracy available, skipping.\n"
          ]
        },
        {
          "output_type": "stream",
          "name": "stdout",
          "text": [
            "\b\b\b\b\b\b\b\b\b\b\b\b\b\b\b\b\b\b\b\b\b\b\b\b\b\b\b\b\b\b\b\b\b\b\b\b\b\b\b\b\b\b\b\b\b\b\b\b\b\b\b\b\b\b\b\b\b\b\b\b\b\b\b\b\b\b\b\b\b\b\b\b\b\b\b\b\b\b\b\b\r3/3 [==============================] - 0s 29ms/step - loss: 0.7057 - accuracy: 0.7396 - val_loss: 0.7742 - val_accuracy: 0.7083\n",
            "Epoch 18/50\n",
            "1/3 [=========>....................] - ETA: 0s - loss: 0.7208 - accuracy: 0.7500"
          ]
        },
        {
          "output_type": "stream",
          "name": "stderr",
          "text": [
            "WARNING:tensorflow:Can save best model only with vall_accuracy available, skipping.\n"
          ]
        },
        {
          "output_type": "stream",
          "name": "stdout",
          "text": [
            "\b\b\b\b\b\b\b\b\b\b\b\b\b\b\b\b\b\b\b\b\b\b\b\b\b\b\b\b\b\b\b\b\b\b\b\b\b\b\b\b\b\b\b\b\b\b\b\b\b\b\b\b\b\b\b\b\b\b\b\b\b\b\b\b\b\b\b\b\b\b\b\b\b\b\b\b\b\b\b\b\r3/3 [==============================] - 0s 28ms/step - loss: 0.6952 - accuracy: 0.7708 - val_loss: 0.7671 - val_accuracy: 0.7500\n",
            "Epoch 19/50\n",
            "1/3 [=========>....................] - ETA: 0s - loss: 0.6924 - accuracy: 0.7812"
          ]
        },
        {
          "output_type": "stream",
          "name": "stderr",
          "text": [
            "WARNING:tensorflow:Can save best model only with vall_accuracy available, skipping.\n"
          ]
        },
        {
          "output_type": "stream",
          "name": "stdout",
          "text": [
            "\b\b\b\b\b\b\b\b\b\b\b\b\b\b\b\b\b\b\b\b\b\b\b\b\b\b\b\b\b\b\b\b\b\b\b\b\b\b\b\b\b\b\b\b\b\b\b\b\b\b\b\b\b\b\b\b\b\b\b\b\b\b\b\b\b\b\b\b\b\b\b\b\b\b\b\b\b\b\b\b\r3/3 [==============================] - 0s 21ms/step - loss: 0.6860 - accuracy: 0.7917 - val_loss: 0.7608 - val_accuracy: 0.8333\n",
            "Epoch 20/50\n",
            "1/3 [=========>....................] - ETA: 0s - loss: 0.6981 - accuracy: 0.7500"
          ]
        },
        {
          "output_type": "stream",
          "name": "stderr",
          "text": [
            "WARNING:tensorflow:Can save best model only with vall_accuracy available, skipping.\n"
          ]
        },
        {
          "output_type": "stream",
          "name": "stdout",
          "text": [
            "\b\b\b\b\b\b\b\b\b\b\b\b\b\b\b\b\b\b\b\b\b\b\b\b\b\b\b\b\b\b\b\b\b\b\b\b\b\b\b\b\b\b\b\b\b\b\b\b\b\b\b\b\b\b\b\b\b\b\b\b\b\b\b\b\b\b\b\b\b\b\b\b\b\b\b\b\b\b\b\b\r3/3 [==============================] - 0s 29ms/step - loss: 0.6774 - accuracy: 0.8333 - val_loss: 0.7546 - val_accuracy: 0.8333\n",
            "Epoch 21/50\n",
            "1/3 [=========>....................] - ETA: 0s - loss: 0.6407 - accuracy: 0.9062"
          ]
        },
        {
          "output_type": "stream",
          "name": "stderr",
          "text": [
            "WARNING:tensorflow:Can save best model only with vall_accuracy available, skipping.\n"
          ]
        },
        {
          "output_type": "stream",
          "name": "stdout",
          "text": [
            "\b\b\b\b\b\b\b\b\b\b\b\b\b\b\b\b\b\b\b\b\b\b\b\b\b\b\b\b\b\b\b\b\b\b\b\b\b\b\b\b\b\b\b\b\b\b\b\b\b\b\b\b\b\b\b\b\b\b\b\b\b\b\b\b\b\b\b\b\b\b\b\b\b\b\b\b\b\b\b\b\r3/3 [==============================] - 0s 28ms/step - loss: 0.6688 - accuracy: 0.8542 - val_loss: 0.7477 - val_accuracy: 0.8333\n",
            "Epoch 22/50\n",
            "1/3 [=========>....................] - ETA: 0s - loss: 0.6654 - accuracy: 0.8438"
          ]
        },
        {
          "output_type": "stream",
          "name": "stderr",
          "text": [
            "WARNING:tensorflow:Can save best model only with vall_accuracy available, skipping.\n"
          ]
        },
        {
          "output_type": "stream",
          "name": "stdout",
          "text": [
            "\b\b\b\b\b\b\b\b\b\b\b\b\b\b\b\b\b\b\b\b\b\b\b\b\b\b\b\b\b\b\b\b\b\b\b\b\b\b\b\b\b\b\b\b\b\b\b\b\b\b\b\b\b\b\b\b\b\b\b\b\b\b\b\b\b\b\b\b\b\b\b\b\b\b\b\b\b\b\b\b\r3/3 [==============================] - 0s 22ms/step - loss: 0.6610 - accuracy: 0.8750 - val_loss: 0.7416 - val_accuracy: 0.8750\n",
            "Epoch 23/50\n",
            "1/3 [=========>....................] - ETA: 0s - loss: 0.6890 - accuracy: 0.8750"
          ]
        },
        {
          "output_type": "stream",
          "name": "stderr",
          "text": [
            "WARNING:tensorflow:Can save best model only with vall_accuracy available, skipping.\n"
          ]
        },
        {
          "output_type": "stream",
          "name": "stdout",
          "text": [
            "\b\b\b\b\b\b\b\b\b\b\b\b\b\b\b\b\b\b\b\b\b\b\b\b\b\b\b\b\b\b\b\b\b\b\b\b\b\b\b\b\b\b\b\b\b\b\b\b\b\b\b\b\b\b\b\b\b\b\b\b\b\b\b\b\b\b\b\b\b\b\b\b\b\b\b\b\b\b\b\b\r3/3 [==============================] - 0s 19ms/step - loss: 0.6533 - accuracy: 0.8854 - val_loss: 0.7353 - val_accuracy: 0.8750\n",
            "Epoch 24/50\n",
            "1/3 [=========>....................] - ETA: 0s - loss: 0.6447 - accuracy: 0.9062"
          ]
        },
        {
          "output_type": "stream",
          "name": "stderr",
          "text": [
            "WARNING:tensorflow:Can save best model only with vall_accuracy available, skipping.\n"
          ]
        },
        {
          "output_type": "stream",
          "name": "stdout",
          "text": [
            "\b\b\b\b\b\b\b\b\b\b\b\b\b\b\b\b\b\b\b\b\b\b\b\b\b\b\b\b\b\b\b\b\b\b\b\b\b\b\b\b\b\b\b\b\b\b\b\b\b\b\b\b\b\b\b\b\b\b\b\b\b\b\b\b\b\b\b\b\b\b\b\b\b\b\b\b\b\b\b\b\r3/3 [==============================] - 0s 28ms/step - loss: 0.6457 - accuracy: 0.9062 - val_loss: 0.7286 - val_accuracy: 0.8750\n",
            "Epoch 25/50\n",
            "1/3 [=========>....................] - ETA: 0s - loss: 0.7136 - accuracy: 0.8750"
          ]
        },
        {
          "output_type": "stream",
          "name": "stderr",
          "text": [
            "WARNING:tensorflow:Can save best model only with vall_accuracy available, skipping.\n"
          ]
        },
        {
          "output_type": "stream",
          "name": "stdout",
          "text": [
            "\b\b\b\b\b\b\b\b\b\b\b\b\b\b\b\b\b\b\b\b\b\b\b\b\b\b\b\b\b\b\b\b\b\b\b\b\b\b\b\b\b\b\b\b\b\b\b\b\b\b\b\b\b\b\b\b\b\b\b\b\b\b\b\b\b\b\b\b\b\b\b\b\b\b\b\b\b\b\b\b\r3/3 [==============================] - 0s 20ms/step - loss: 0.6390 - accuracy: 0.9062 - val_loss: 0.7226 - val_accuracy: 0.8750\n",
            "Epoch 26/50\n",
            "1/3 [=========>....................] - ETA: 0s - loss: 0.5876 - accuracy: 0.9688"
          ]
        },
        {
          "output_type": "stream",
          "name": "stderr",
          "text": [
            "WARNING:tensorflow:Can save best model only with vall_accuracy available, skipping.\n"
          ]
        },
        {
          "output_type": "stream",
          "name": "stdout",
          "text": [
            "\b\b\b\b\b\b\b\b\b\b\b\b\b\b\b\b\b\b\b\b\b\b\b\b\b\b\b\b\b\b\b\b\b\b\b\b\b\b\b\b\b\b\b\b\b\b\b\b\b\b\b\b\b\b\b\b\b\b\b\b\b\b\b\b\b\b\b\b\b\b\b\b\b\b\b\b\b\b\b\b\r3/3 [==============================] - 0s 30ms/step - loss: 0.6316 - accuracy: 0.9167 - val_loss: 0.7157 - val_accuracy: 0.8750\n",
            "Epoch 27/50\n",
            "1/3 [=========>....................] - ETA: 0s - loss: 0.6128 - accuracy: 0.9375"
          ]
        },
        {
          "output_type": "stream",
          "name": "stderr",
          "text": [
            "WARNING:tensorflow:Can save best model only with vall_accuracy available, skipping.\n"
          ]
        },
        {
          "output_type": "stream",
          "name": "stdout",
          "text": [
            "\b\b\b\b\b\b\b\b\b\b\b\b\b\b\b\b\b\b\b\b\b\b\b\b\b\b\b\b\b\b\b\b\b\b\b\b\b\b\b\b\b\b\b\b\b\b\b\b\b\b\b\b\b\b\b\b\b\b\b\b\b\b\b\b\b\b\b\b\b\b\b\b\b\b\b\b\b\b\b\b\r3/3 [==============================] - 0s 19ms/step - loss: 0.6250 - accuracy: 0.9167 - val_loss: 0.7101 - val_accuracy: 0.8750\n",
            "Epoch 28/50\n",
            "1/3 [=========>....................] - ETA: 0s - loss: 0.6227 - accuracy: 0.9688"
          ]
        },
        {
          "output_type": "stream",
          "name": "stderr",
          "text": [
            "WARNING:tensorflow:Can save best model only with vall_accuracy available, skipping.\n"
          ]
        },
        {
          "output_type": "stream",
          "name": "stdout",
          "text": [
            "\b\b\b\b\b\b\b\b\b\b\b\b\b\b\b\b\b\b\b\b\b\b\b\b\b\b\b\b\b\b\b\b\b\b\b\b\b\b\b\b\b\b\b\b\b\b\b\b\b\b\b\b\b\b\b\b\b\b\b\b\b\b\b\b\b\b\b\b\b\b\b\b\b\b\b\b\b\b\b\b\r3/3 [==============================] - 0s 32ms/step - loss: 0.6184 - accuracy: 0.9375 - val_loss: 0.7034 - val_accuracy: 0.8750\n",
            "Epoch 29/50\n",
            "1/3 [=========>....................] - ETA: 0s - loss: 0.6726 - accuracy: 0.9688"
          ]
        },
        {
          "output_type": "stream",
          "name": "stderr",
          "text": [
            "WARNING:tensorflow:Can save best model only with vall_accuracy available, skipping.\n"
          ]
        },
        {
          "output_type": "stream",
          "name": "stdout",
          "text": [
            "\b\b\b\b\b\b\b\b\b\b\b\b\b\b\b\b\b\b\b\b\b\b\b\b\b\b\b\b\b\b\b\b\b\b\b\b\b\b\b\b\b\b\b\b\b\b\b\b\b\b\b\b\b\b\b\b\b\b\b\b\b\b\b\b\b\b\b\b\b\b\b\b\b\b\b\b\b\b\b\b\r3/3 [==============================] - 0s 20ms/step - loss: 0.6120 - accuracy: 0.9583 - val_loss: 0.6976 - val_accuracy: 0.8750\n",
            "Epoch 30/50\n",
            "1/3 [=========>....................] - ETA: 0s - loss: 0.6432 - accuracy: 0.9375"
          ]
        },
        {
          "output_type": "stream",
          "name": "stderr",
          "text": [
            "WARNING:tensorflow:Can save best model only with vall_accuracy available, skipping.\n"
          ]
        },
        {
          "output_type": "stream",
          "name": "stdout",
          "text": [
            "\b\b\b\b\b\b\b\b\b\b\b\b\b\b\b\b\b\b\b\b\b\b\b\b\b\b\b\b\b\b\b\b\b\b\b\b\b\b\b\b\b\b\b\b\b\b\b\b\b\b\b\b\b\b\b\b\b\b\b\b\b\b\b\b\b\b\b\b\b\b\b\b\b\b\b\b\b\b\b\b\r3/3 [==============================] - 0s 28ms/step - loss: 0.6057 - accuracy: 0.9583 - val_loss: 0.6917 - val_accuracy: 0.8750\n",
            "Epoch 31/50\n",
            "1/3 [=========>....................] - ETA: 0s - loss: 0.6291 - accuracy: 1.0000"
          ]
        },
        {
          "output_type": "stream",
          "name": "stderr",
          "text": [
            "WARNING:tensorflow:Can save best model only with vall_accuracy available, skipping.\n"
          ]
        },
        {
          "output_type": "stream",
          "name": "stdout",
          "text": [
            "\b\b\b\b\b\b\b\b\b\b\b\b\b\b\b\b\b\b\b\b\b\b\b\b\b\b\b\b\b\b\b\b\b\b\b\b\b\b\b\b\b\b\b\b\b\b\b\b\b\b\b\b\b\b\b\b\b\b\b\b\b\b\b\b\b\b\b\b\b\b\b\b\b\b\b\b\b\b\b\b\r3/3 [==============================] - 0s 20ms/step - loss: 0.5996 - accuracy: 0.9583 - val_loss: 0.6865 - val_accuracy: 0.8750\n",
            "Epoch 32/50\n",
            "1/3 [=========>....................] - ETA: 0s - loss: 0.6647 - accuracy: 0.9688"
          ]
        },
        {
          "output_type": "stream",
          "name": "stderr",
          "text": [
            "WARNING:tensorflow:Can save best model only with vall_accuracy available, skipping.\n"
          ]
        },
        {
          "output_type": "stream",
          "name": "stdout",
          "text": [
            "\b\b\b\b\b\b\b\b\b\b\b\b\b\b\b\b\b\b\b\b\b\b\b\b\b\b\b\b\b\b\b\b\b\b\b\b\b\b\b\b\b\b\b\b\b\b\b\b\b\b\b\b\b\b\b\b\b\b\b\b\b\b\b\b\b\b\b\b\b\b\b\b\b\b\b\b\b\b\b\b\r3/3 [==============================] - 0s 30ms/step - loss: 0.5937 - accuracy: 0.9479 - val_loss: 0.6816 - val_accuracy: 0.8750\n",
            "Epoch 33/50\n",
            "1/3 [=========>....................] - ETA: 0s - loss: 0.4902 - accuracy: 0.9375"
          ]
        },
        {
          "output_type": "stream",
          "name": "stderr",
          "text": [
            "WARNING:tensorflow:Can save best model only with vall_accuracy available, skipping.\n"
          ]
        },
        {
          "output_type": "stream",
          "name": "stdout",
          "text": [
            "\b\b\b\b\b\b\b\b\b\b\b\b\b\b\b\b\b\b\b\b\b\b\b\b\b\b\b\b\b\b\b\b\b\b\b\b\b\b\b\b\b\b\b\b\b\b\b\b\b\b\b\b\b\b\b\b\b\b\b\b\b\b\b\b\b\b\b\b\b\b\b\b\b\b\b\b\b\b\b\b\r3/3 [==============================] - 0s 19ms/step - loss: 0.5878 - accuracy: 0.9375 - val_loss: 0.6762 - val_accuracy: 0.8750\n",
            "Epoch 34/50\n",
            "1/3 [=========>....................] - ETA: 0s - loss: 0.5818 - accuracy: 1.0000"
          ]
        },
        {
          "output_type": "stream",
          "name": "stderr",
          "text": [
            "WARNING:tensorflow:Can save best model only with vall_accuracy available, skipping.\n"
          ]
        },
        {
          "output_type": "stream",
          "name": "stdout",
          "text": [
            "\b\b\b\b\b\b\b\b\b\b\b\b\b\b\b\b\b\b\b\b\b\b\b\b\b\b\b\b\b\b\b\b\b\b\b\b\b\b\b\b\b\b\b\b\b\b\b\b\b\b\b\b\b\b\b\b\b\b\b\b\b\b\b\b\b\b\b\b\b\b\b\b\b\b\b\b\b\b\b\b\r3/3 [==============================] - 0s 19ms/step - loss: 0.5823 - accuracy: 0.9375 - val_loss: 0.6700 - val_accuracy: 0.8750\n",
            "Epoch 35/50\n",
            "1/3 [=========>....................] - ETA: 0s - loss: 0.5520 - accuracy: 0.9688"
          ]
        },
        {
          "output_type": "stream",
          "name": "stderr",
          "text": [
            "WARNING:tensorflow:Can save best model only with vall_accuracy available, skipping.\n"
          ]
        },
        {
          "output_type": "stream",
          "name": "stdout",
          "text": [
            "\b\b\b\b\b\b\b\b\b\b\b\b\b\b\b\b\b\b\b\b\b\b\b\b\b\b\b\b\b\b\b\b\b\b\b\b\b\b\b\b\b\b\b\b\b\b\b\b\b\b\b\b\b\b\b\b\b\b\b\b\b\b\b\b\b\b\b\b\b\b\b\b\b\b\b\b\b\b\b\b\r3/3 [==============================] - 0s 34ms/step - loss: 0.5766 - accuracy: 0.9479 - val_loss: 0.6642 - val_accuracy: 0.8750\n",
            "Epoch 36/50\n",
            "1/3 [=========>....................] - ETA: 0s - loss: 0.5116 - accuracy: 0.9062"
          ]
        },
        {
          "output_type": "stream",
          "name": "stderr",
          "text": [
            "WARNING:tensorflow:Can save best model only with vall_accuracy available, skipping.\n"
          ]
        },
        {
          "output_type": "stream",
          "name": "stdout",
          "text": [
            "\b\b\b\b\b\b\b\b\b\b\b\b\b\b\b\b\b\b\b\b\b\b\b\b\b\b\b\b\b\b\b\b\b\b\b\b\b\b\b\b\b\b\b\b\b\b\b\b\b\b\b\b\b\b\b\b\b\b\b\b\b\b\b\b\b\b\b\b\b\b\b\b\b\b\b\b\b\b\b\b\r3/3 [==============================] - 0s 40ms/step - loss: 0.5713 - accuracy: 0.9479 - val_loss: 0.6593 - val_accuracy: 0.9167\n",
            "Epoch 37/50\n",
            "1/3 [=========>....................] - ETA: 0s - loss: 0.5343 - accuracy: 0.9375"
          ]
        },
        {
          "output_type": "stream",
          "name": "stderr",
          "text": [
            "WARNING:tensorflow:Can save best model only with vall_accuracy available, skipping.\n"
          ]
        },
        {
          "output_type": "stream",
          "name": "stdout",
          "text": [
            "\b\b\b\b\b\b\b\b\b\b\b\b\b\b\b\b\b\b\b\b\b\b\b\b\b\b\b\b\b\b\b\b\b\b\b\b\b\b\b\b\b\b\b\b\b\b\b\b\b\b\b\b\b\b\b\b\b\b\b\b\b\b\b\b\b\b\b\b\b\b\b\b\b\b\b\b\b\b\b\b\r3/3 [==============================] - 0s 40ms/step - loss: 0.5659 - accuracy: 0.9583 - val_loss: 0.6538 - val_accuracy: 0.9167\n",
            "Epoch 38/50\n",
            "1/3 [=========>....................] - ETA: 0s - loss: 0.5177 - accuracy: 1.0000"
          ]
        },
        {
          "output_type": "stream",
          "name": "stderr",
          "text": [
            "WARNING:tensorflow:Can save best model only with vall_accuracy available, skipping.\n"
          ]
        },
        {
          "output_type": "stream",
          "name": "stdout",
          "text": [
            "\b\b\b\b\b\b\b\b\b\b\b\b\b\b\b\b\b\b\b\b\b\b\b\b\b\b\b\b\b\b\b\b\b\b\b\b\b\b\b\b\b\b\b\b\b\b\b\b\b\b\b\b\b\b\b\b\b\b\b\b\b\b\b\b\b\b\b\b\b\b\b\b\b\b\b\b\b\b\b\b\r3/3 [==============================] - 0s 39ms/step - loss: 0.5609 - accuracy: 0.9583 - val_loss: 0.6485 - val_accuracy: 0.9167\n",
            "Epoch 39/50\n",
            "1/3 [=========>....................] - ETA: 0s - loss: 0.5571 - accuracy: 1.0000"
          ]
        },
        {
          "output_type": "stream",
          "name": "stderr",
          "text": [
            "WARNING:tensorflow:Can save best model only with vall_accuracy available, skipping.\n"
          ]
        },
        {
          "output_type": "stream",
          "name": "stdout",
          "text": [
            "\b\b\b\b\b\b\b\b\b\b\b\b\b\b\b\b\b\b\b\b\b\b\b\b\b\b\b\b\b\b\b\b\b\b\b\b\b\b\b\b\b\b\b\b\b\b\b\b\b\b\b\b\b\b\b\b\b\b\b\b\b\b\b\b\b\b\b\b\b\b\b\b\b\b\b\b\b\b\b\b\r3/3 [==============================] - 0s 36ms/step - loss: 0.5559 - accuracy: 0.9583 - val_loss: 0.6428 - val_accuracy: 0.9167\n",
            "Epoch 40/50\n",
            "1/3 [=========>....................] - ETA: 0s - loss: 0.5393 - accuracy: 0.9688"
          ]
        },
        {
          "output_type": "stream",
          "name": "stderr",
          "text": [
            "WARNING:tensorflow:Can save best model only with vall_accuracy available, skipping.\n"
          ]
        },
        {
          "output_type": "stream",
          "name": "stdout",
          "text": [
            "\b\b\b\b\b\b\b\b\b\b\b\b\b\b\b\b\b\b\b\b\b\b\b\b\b\b\b\b\b\b\b\b\b\b\b\b\b\b\b\b\b\b\b\b\b\b\b\b\b\b\b\b\b\b\b\b\b\b\b\b\b\b\b\b\b\b\b\b\b\b\b\b\b\b\b\b\b\b\b\b\r3/3 [==============================] - 0s 36ms/step - loss: 0.5510 - accuracy: 0.9583 - val_loss: 0.6376 - val_accuracy: 0.9167\n",
            "Epoch 41/50\n",
            "1/3 [=========>....................] - ETA: 0s - loss: 0.5701 - accuracy: 0.9688"
          ]
        },
        {
          "output_type": "stream",
          "name": "stderr",
          "text": [
            "WARNING:tensorflow:Can save best model only with vall_accuracy available, skipping.\n"
          ]
        },
        {
          "output_type": "stream",
          "name": "stdout",
          "text": [
            "\b\b\b\b\b\b\b\b\b\b\b\b\b\b\b\b\b\b\b\b\b\b\b\b\b\b\b\b\b\b\b\b\b\b\b\b\b\b\b\b\b\b\b\b\b\b\b\b\b\b\b\b\b\b\b\b\b\b\b\b\b\b\b\b\b\b\b\b\b\b\b\b\b\b\b\b\b\b\b\b\r3/3 [==============================] - 0s 38ms/step - loss: 0.5463 - accuracy: 0.9583 - val_loss: 0.6329 - val_accuracy: 0.9167\n",
            "Epoch 42/50\n",
            "1/3 [=========>....................] - ETA: 0s - loss: 0.5360 - accuracy: 0.9375"
          ]
        },
        {
          "output_type": "stream",
          "name": "stderr",
          "text": [
            "WARNING:tensorflow:Can save best model only with vall_accuracy available, skipping.\n"
          ]
        },
        {
          "output_type": "stream",
          "name": "stdout",
          "text": [
            "\b\b\b\b\b\b\b\b\b\b\b\b\b\b\b\b\b\b\b\b\b\b\b\b\b\b\b\b\b\b\b\b\b\b\b\b\b\b\b\b\b\b\b\b\b\b\b\b\b\b\b\b\b\b\b\b\b\b\b\b\b\b\b\b\b\b\b\b\b\b\b\b\b\b\b\b\b\b\b\b\r3/3 [==============================] - 0s 36ms/step - loss: 0.5415 - accuracy: 0.9583 - val_loss: 0.6278 - val_accuracy: 0.9167\n",
            "Epoch 43/50\n",
            "1/3 [=========>....................] - ETA: 0s - loss: 0.5527 - accuracy: 0.9375"
          ]
        },
        {
          "output_type": "stream",
          "name": "stderr",
          "text": [
            "WARNING:tensorflow:Can save best model only with vall_accuracy available, skipping.\n"
          ]
        },
        {
          "output_type": "stream",
          "name": "stdout",
          "text": [
            "\b\b\b\b\b\b\b\b\b\b\b\b\b\b\b\b\b\b\b\b\b\b\b\b\b\b\b\b\b\b\b\b\b\b\b\b\b\b\b\b\b\b\b\b\b\b\b\b\b\b\b\b\b\b\b\b\b\b\b\b\b\b\b\b\b\b\b\b\b\b\b\b\b\b\b\b\b\b\b\b\r3/3 [==============================] - 0s 36ms/step - loss: 0.5370 - accuracy: 0.9583 - val_loss: 0.6232 - val_accuracy: 0.9167\n",
            "Epoch 44/50\n",
            "1/3 [=========>....................] - ETA: 0s - loss: 0.4876 - accuracy: 0.9375"
          ]
        },
        {
          "output_type": "stream",
          "name": "stderr",
          "text": [
            "WARNING:tensorflow:Can save best model only with vall_accuracy available, skipping.\n"
          ]
        },
        {
          "output_type": "stream",
          "name": "stdout",
          "text": [
            "\b\b\b\b\b\b\b\b\b\b\b\b\b\b\b\b\b\b\b\b\b\b\b\b\b\b\b\b\b\b\b\b\b\b\b\b\b\b\b\b\b\b\b\b\b\b\b\b\b\b\b\b\b\b\b\b\b\b\b\b\b\b\b\b\b\b\b\b\b\b\b\b\b\b\b\b\b\b\b\b\r3/3 [==============================] - 0s 30ms/step - loss: 0.5324 - accuracy: 0.9583 - val_loss: 0.6183 - val_accuracy: 0.9167\n",
            "Epoch 45/50\n",
            "1/3 [=========>....................] - ETA: 0s - loss: 0.5638 - accuracy: 0.9375"
          ]
        },
        {
          "output_type": "stream",
          "name": "stderr",
          "text": [
            "WARNING:tensorflow:Can save best model only with vall_accuracy available, skipping.\n"
          ]
        },
        {
          "output_type": "stream",
          "name": "stdout",
          "text": [
            "\b\b\b\b\b\b\b\b\b\b\b\b\b\b\b\b\b\b\b\b\b\b\b\b\b\b\b\b\b\b\b\b\b\b\b\b\b\b\b\b\b\b\b\b\b\b\b\b\b\b\b\b\b\b\b\b\b\b\b\b\b\b\b\b\b\b\b\b\b\b\b\b\b\b\b\b\b\b\b\b\r3/3 [==============================] - 0s 28ms/step - loss: 0.5281 - accuracy: 0.9583 - val_loss: 0.6123 - val_accuracy: 0.9583\n",
            "Epoch 46/50\n",
            "1/3 [=========>....................] - ETA: 0s - loss: 0.5381 - accuracy: 0.9062"
          ]
        },
        {
          "output_type": "stream",
          "name": "stderr",
          "text": [
            "WARNING:tensorflow:Can save best model only with vall_accuracy available, skipping.\n"
          ]
        },
        {
          "output_type": "stream",
          "name": "stdout",
          "text": [
            "\b\b\b\b\b\b\b\b\b\b\b\b\b\b\b\b\b\b\b\b\b\b\b\b\b\b\b\b\b\b\b\b\b\b\b\b\b\b\b\b\b\b\b\b\b\b\b\b\b\b\b\b\b\b\b\b\b\b\b\b\b\b\b\b\b\b\b\b\b\b\b\b\b\b\b\b\b\b\b\b\r3/3 [==============================] - 0s 45ms/step - loss: 0.5235 - accuracy: 0.9583 - val_loss: 0.6078 - val_accuracy: 0.9583\n",
            "Epoch 47/50\n",
            "1/3 [=========>....................] - ETA: 0s - loss: 0.5104 - accuracy: 0.9688"
          ]
        },
        {
          "output_type": "stream",
          "name": "stderr",
          "text": [
            "WARNING:tensorflow:Can save best model only with vall_accuracy available, skipping.\n"
          ]
        },
        {
          "output_type": "stream",
          "name": "stdout",
          "text": [
            "\b\b\b\b\b\b\b\b\b\b\b\b\b\b\b\b\b\b\b\b\b\b\b\b\b\b\b\b\b\b\b\b\b\b\b\b\b\b\b\b\b\b\b\b\b\b\b\b\b\b\b\b\b\b\b\b\b\b\b\b\b\b\b\b\b\b\b\b\b\b\b\b\b\b\b\b\b\b\b\b\r3/3 [==============================] - 0s 37ms/step - loss: 0.5192 - accuracy: 0.9583 - val_loss: 0.6030 - val_accuracy: 0.9583\n",
            "Epoch 48/50\n",
            "1/3 [=========>....................] - ETA: 0s - loss: 0.5020 - accuracy: 1.0000"
          ]
        },
        {
          "output_type": "stream",
          "name": "stderr",
          "text": [
            "WARNING:tensorflow:Can save best model only with vall_accuracy available, skipping.\n"
          ]
        },
        {
          "output_type": "stream",
          "name": "stdout",
          "text": [
            "\b\b\b\b\b\b\b\b\b\b\b\b\b\b\b\b\b\b\b\b\b\b\b\b\b\b\b\b\b\b\b\b\b\b\b\b\b\b\b\b\b\b\b\b\b\b\b\b\b\b\b\b\b\b\b\b\b\b\b\b\b\b\b\b\b\b\b\b\b\b\b\b\b\b\b\b\b\b\b\b\r3/3 [==============================] - 0s 46ms/step - loss: 0.5150 - accuracy: 0.9583 - val_loss: 0.5979 - val_accuracy: 0.9583\n",
            "Epoch 49/50\n",
            "1/3 [=========>....................] - ETA: 0s - loss: 0.4948 - accuracy: 0.9062"
          ]
        },
        {
          "output_type": "stream",
          "name": "stderr",
          "text": [
            "WARNING:tensorflow:Can save best model only with vall_accuracy available, skipping.\n"
          ]
        },
        {
          "output_type": "stream",
          "name": "stdout",
          "text": [
            "\b\b\b\b\b\b\b\b\b\b\b\b\b\b\b\b\b\b\b\b\b\b\b\b\b\b\b\b\b\b\b\b\b\b\b\b\b\b\b\b\b\b\b\b\b\b\b\b\b\b\b\b\b\b\b\b\b\b\b\b\b\b\b\b\b\b\b\b\b\b\b\b\b\b\b\b\b\b\b\b\r3/3 [==============================] - 0s 35ms/step - loss: 0.5107 - accuracy: 0.9583 - val_loss: 0.5938 - val_accuracy: 0.9583\n",
            "Epoch 50/50\n",
            "1/3 [=========>....................] - ETA: 0s - loss: 0.5679 - accuracy: 0.9688"
          ]
        },
        {
          "output_type": "stream",
          "name": "stderr",
          "text": [
            "WARNING:tensorflow:Can save best model only with vall_accuracy available, skipping.\n"
          ]
        },
        {
          "output_type": "stream",
          "name": "stdout",
          "text": [
            "\b\b\b\b\b\b\b\b\b\b\b\b\b\b\b\b\b\b\b\b\b\b\b\b\b\b\b\b\b\b\b\b\b\b\b\b\b\b\b\b\b\b\b\b\b\b\b\b\b\b\b\b\b\b\b\b\b\b\b\b\b\b\b\b\b\b\b\b\b\b\b\b\b\b\b\b\b\b\b\b\r3/3 [==============================] - 0s 32ms/step - loss: 0.5066 - accuracy: 0.9583 - val_loss: 0.5888 - val_accuracy: 0.9167\n"
          ]
        }
      ]
    },
    {
      "cell_type": "code",
      "source": [
        "best_model = load_model(checkpoint_filepath)"
      ],
      "metadata": {
        "id": "ExJSRw-hwazB"
      },
      "execution_count": null,
      "outputs": []
    },
    {
      "cell_type": "code",
      "source": [
        "best_model"
      ],
      "metadata": {
        "colab": {
          "base_uri": "https://localhost:8080/"
        },
        "id": "D93u9TWoxLcb",
        "outputId": "224afeee-b2d9-4322-901a-e0a2639e0d9f"
      },
      "execution_count": null,
      "outputs": [
        {
          "output_type": "execute_result",
          "data": {
            "text/plain": [
              "<keras.src.engine.sequential.Sequential at 0x7f91d4aebfd0>"
            ]
          },
          "metadata": {},
          "execution_count": 16
        }
      ]
    },
    {
      "cell_type": "code",
      "source": [
        "loss, accuracy = model.evaluate(X_test, y_test)\n",
        "print(f'Test Accuracy: {accuracy}')"
      ],
      "metadata": {
        "colab": {
          "base_uri": "https://localhost:8080/"
        },
        "id": "8bcLOGkVxO0O",
        "outputId": "b3d605f2-3ce4-4039-a2e1-89d82bd4d595"
      },
      "execution_count": null,
      "outputs": [
        {
          "output_type": "stream",
          "name": "stdout",
          "text": [
            "1/1 [==============================] - 0s 51ms/step - loss: 0.5214 - accuracy: 0.9000\n",
            "Test Accuracy: 0.8999999761581421\n"
          ]
        }
      ]
    },
    {
      "cell_type": "code",
      "source": [],
      "metadata": {
        "id": "Y7fjJ3tmzG1-"
      },
      "execution_count": null,
      "outputs": []
    }
  ]
}