{
  "nbformat": 4,
  "nbformat_minor": 0,
  "metadata": {
    "colab": {
      "provenance": []
    },
    "kernelspec": {
      "name": "python3",
      "display_name": "Python 3"
    },
    "language_info": {
      "name": "python"
    }
  },
  "cells": [
    {
      "cell_type": "code",
      "source": [
        "#After including Dataset df\n",
        "\n",
        "#Step:01 >> split into input (X) and output (y) variables\n",
        "X = df.drop(columns=['putput_column']) #or df.iloc[:,0:10]       iloc=index location\n",
        "y = df['output_column'] #or df.iloc[:,-1] or df.iloc[:,10]"
      ],
      "metadata": {
        "id": "wU2XirUkWzX5"
      },
      "execution_count": null,
      "outputs": []
    },
    {
      "cell_type": "code",
      "source": [
        "#Step:02 >> train_test_split()\n",
        "from sklearn.model_selection import train_test_split\n",
        "X_train, X_test, y_train, y_test = train_test_split(X, y, test_size = 0.2, random_state = 1)"
      ],
      "metadata": {
        "id": "HAsDvS11ZN6k"
      },
      "execution_count": null,
      "outputs": []
    },
    {
      "cell_type": "code",
      "source": [
        "#Step:03 >> Preprocessing if need like Scaler\n",
        "from sklearn.preprocessing import StandardScaler\n",
        "csaler = StandardScaler()\n",
        "\n",
        "X_train_scaled = scaler.fit_transform(X_train)\n",
        "X_test_scaled = scaler.transform(X_test)"
      ],
      "metadata": {
        "id": "l_9fAoipack4"
      },
      "execution_count": null,
      "outputs": []
    },
    {
      "cell_type": "code",
      "source": [
        "#Step:04 >> Import tensorflow, keras, layers, Sequential, Dense\n",
        "\n",
        "import tensorflow\n",
        "from tensorflow import keras\n",
        "from keras import Sequential\n",
        "from keras.layers import Dense"
      ],
      "metadata": {
        "id": "Jmp27T0FcL74"
      },
      "execution_count": null,
      "outputs": []
    },
    {
      "cell_type": "code",
      "source": [
        "#step:05 >> Sequentially add dense layers in the model\n",
        "\n",
        "model = Sequential()\n",
        "\n",
        "model.add(Dense(3, activation = relu, input_dim = 4))  # Input Layer\n",
        "model.add(Dense(4, activation = relu))                 # Hidden Layer\n",
        "model.add(Dense(1, activation = sigmoid))              # Output Layer"
      ],
      "metadata": {
        "id": "QC66vqTtdnjz"
      },
      "execution_count": null,
      "outputs": []
    },
    {
      "cell_type": "code",
      "source": [
        "#step:06 >> Want to see model summary\n",
        "\n",
        "model.summary()"
      ],
      "metadata": {
        "id": "dq8diXSpxX1w"
      },
      "execution_count": null,
      "outputs": []
    },
    {
      "cell_type": "code",
      "source": [
        "#step:07 >> Add Compiler\n",
        "\n",
        "model.compile(loss = 'binary_crossentropy', optimizer='Adam', metrics = ['accuracy'])"
      ],
      "metadata": {
        "id": "0B_CRaGPxvGF"
      },
      "execution_count": null,
      "outputs": []
    },
    {
      "cell_type": "code",
      "source": [
        "#step:08 >> epoch with history\n",
        "\n",
        "history = model.fit(X_train_scalled, y_train, epochs=100, validation_split = 0.2)"
      ],
      "metadata": {
        "id": "gs09asWozVVQ"
      },
      "execution_count": null,
      "outputs": []
    },
    {
      "cell_type": "code",
      "source": [
        "#step:09 >> to see weights of layers\n",
        "\n",
        "model.layers[0].get_weights()"
      ],
      "metadata": {
        "id": "MRhHKe4_0Sls"
      },
      "execution_count": null,
      "outputs": []
    },
    {
      "cell_type": "code",
      "source": [
        "#step:10 >> Predict model\n",
        "\n",
        "y_prob = model.predict(X_test_scaled)\n",
        "y_prob"
      ],
      "metadata": {
        "id": "2MSo9aK1090g"
      },
      "execution_count": null,
      "outputs": []
    },
    {
      "cell_type": "code",
      "source": [
        "#step:11 >> Prediction will provide output between 0 and 1\n",
        "\n",
        "y_pred = np.where(y_prob>0.5,1,0) # If y_log greater then 0.5 then output will return 1 otherwise 0"
      ],
      "metadata": {
        "id": "gsOtKfo-1zhf"
      },
      "execution_count": null,
      "outputs": []
    },
    {
      "cell_type": "code",
      "source": [
        "#step:12 Find the Accuracy\n",
        "\n",
        "from sklearn.metrics import accuracy_score\n",
        "accuracy_score(y_test,  y_pred)"
      ],
      "metadata": {
        "id": "LUu5qSZs27C2"
      },
      "execution_count": null,
      "outputs": []
    },
    {
      "cell_type": "code",
      "source": [
        "#step:13 >> Check history of loss\n",
        "\n",
        "plt.plot(history.history['loss'])\n",
        "plt.plot(history.history['val_loss'])"
      ],
      "metadata": {
        "id": "pGQsUlFj3-h-"
      },
      "execution_count": null,
      "outputs": []
    },
    {
      "cell_type": "code",
      "source": [
        "#step:14 >> Check history of accuracy\n",
        "\n",
        "plt.plot(history.history['accuracy'])\n",
        "plt.plot(history.history['val_accuracy'])"
      ],
      "metadata": {
        "id": "kcUjNYsL4kdK"
      },
      "execution_count": null,
      "outputs": []
    }
  ]
}